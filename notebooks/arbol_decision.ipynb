{
  "nbformat": 4,
  "nbformat_minor": 0,
  "metadata": {
    "colab": {
      "provenance": []
    },
    "kernelspec": {
      "name": "python3",
      "display_name": "Python 3"
    },
    "language_info": {
      "name": "python"
    }
  },
  "cells": [
    {
      "cell_type": "code",
      "execution_count": null,
      "metadata": {
        "id": "Ou_Kf_BSjiMt"
      },
      "outputs": [],
      "source": [
        "import numpy as np\n",
        "import matplotlib.pyplot as plt\n",
        "import seaborn as sns\n",
        "import pandas as pd\n",
        "import plotly.express as px\n",
        "import warnings\n",
        "warnings.simplefilter(action='ignore', category=FutureWarning)\n",
        "from sklearn.linear_model import LogisticRegression\n",
        "from sklearn.model_selection import train_test_split\n",
        "from sklearn import metrics\n",
        "from sklearn.model_selection import KFold\n",
        "from sklearn.cluster import KMeans\n",
        "from sklearn.linear_model import LinearRegression\n",
        "from sklearn.metrics import mean_squared_error\n",
        "from sklearn.neural_network import MLPClassifier\n",
        "from sklearn.naive_bayes import GaussianNB\n",
        "from sklearn.svm import SVC #Support Vector Classifier\n",
        "from sklearn.pipeline import make_pipeline\n",
        "from sklearn.ensemble import RandomForestClassifier\n",
        "from sklearn import tree as treeClassifier"
      ]
    },
    {
      "cell_type": "code",
      "source": [
        "#Cargamos el csv con los datos de los asegurados\n",
        "siniestros = pd.read_csv('/content/drive/MyDrive/Colab Notebooks/datos_siniestro.csv', sep='|', index_col=0)\n",
        "#, names=['id', 'idsin', 'numsin', 'codsin', 'ocurrido', 'diagnostico', 'poliza', 'sexo', 'edad', 'fallecido', 'covid', 'sospecha_covid', 'tumor_maligno', 'diabetes', 'neumonia', 'paro_infarto', 'insuf_respiratoria', 'insuf_renal', 'cirrosis', 'choque medico', 'acidosis', 'asfixia', 'otras_causas'])\n",
        "siniestros.head()"
      ],
      "metadata": {
        "colab": {
          "base_uri": "https://localhost:8080/",
          "height": 539
        },
        "id": "6h01xXoJj5j1",
        "outputId": "0058fbbe-1f3e-482b-9c9c-e6f4085d6097"
      },
      "execution_count": 2,
      "outputs": [
        {
          "output_type": "execute_result",
          "data": {
            "text/plain": [
              "          IDSIN    NUMSIN CODSIN  OCURRIDO  \\\n",
              "ID                                           \n",
              "5067980  846213  19100456   VI00  17/04/19   \n",
              "4758080  844600  19100445   VI00  23/04/19   \n",
              "4202335  860740  19100522   VI00  27/04/19   \n",
              "4508048  868085  19100549   VI00  18/04/19   \n",
              "3782760  873200  19100573   VI00  03/05/19   \n",
              "\n",
              "                                               DIAGNOSTICO            POLIZA  \\\n",
              "ID                                                                             \n",
              "5067980                        INFARTO AGUDO DEL MIOCARDIO  VI00-1503848-380   \n",
              "4758080              OTRAS DIABETES MELLITUS ESPECIFICADAS  VI00-3531957-200   \n",
              "4202335  ENFERMEDAD POR VIRUS DE LA INMUNODEFICIENCIA H...  VI00-3458173-200   \n",
              "4508048                        INSUFICIENCIA RENAL CRONICA  VI00-1550805-200   \n",
              "3782760                       CIRROSIS HEPATICA ALCOHOLICA  VI00-3399851-200   \n",
              "\n",
              "         SEXO  EDAD FALLECIDO  COVID  ...  DIABETES  NEUMONIA  PARO O INFARTO  \\\n",
              "ID                                    ...                                       \n",
              "5067980     1    56         S      0  ...         0         0               1   \n",
              "4758080     0    69         S      0  ...         0         0               0   \n",
              "4202335     1    32         S      0  ...         0         0               0   \n",
              "4508048     1    62         S      0  ...         0         0               0   \n",
              "3782760     1    53         S      0  ...         0         0               0   \n",
              "\n",
              "         INSUFICIENCIA RESPIRATORIA  INSUFICIENCIA RENAL  CIRROSIS  \\\n",
              "ID                                                                   \n",
              "5067980                           0                    0         0   \n",
              "4758080                           0                    0         0   \n",
              "4202335                           0                    0         0   \n",
              "4508048                           0                    1         0   \n",
              "3782760                           0                    0         1   \n",
              "\n",
              "         CHOQUE MEDICO  ACIDOSIS  ASFIXIA  OTRAS CAUSAS  \n",
              "ID                                                       \n",
              "5067980              0         0        0             0  \n",
              "4758080              0         0        0             1  \n",
              "4202335              0         0        0             1  \n",
              "4508048              0         0        0             0  \n",
              "3782760              0         0        0             0  \n",
              "\n",
              "[5 rows x 22 columns]"
            ],
            "text/html": [
              "\n",
              "  <div id=\"df-c6ddc7f9-95f6-4ad3-9b92-e13eb6095ef6\">\n",
              "    <div class=\"colab-df-container\">\n",
              "      <div>\n",
              "<style scoped>\n",
              "    .dataframe tbody tr th:only-of-type {\n",
              "        vertical-align: middle;\n",
              "    }\n",
              "\n",
              "    .dataframe tbody tr th {\n",
              "        vertical-align: top;\n",
              "    }\n",
              "\n",
              "    .dataframe thead th {\n",
              "        text-align: right;\n",
              "    }\n",
              "</style>\n",
              "<table border=\"1\" class=\"dataframe\">\n",
              "  <thead>\n",
              "    <tr style=\"text-align: right;\">\n",
              "      <th></th>\n",
              "      <th>IDSIN</th>\n",
              "      <th>NUMSIN</th>\n",
              "      <th>CODSIN</th>\n",
              "      <th>OCURRIDO</th>\n",
              "      <th>DIAGNOSTICO</th>\n",
              "      <th>POLIZA</th>\n",
              "      <th>SEXO</th>\n",
              "      <th>EDAD</th>\n",
              "      <th>FALLECIDO</th>\n",
              "      <th>COVID</th>\n",
              "      <th>...</th>\n",
              "      <th>DIABETES</th>\n",
              "      <th>NEUMONIA</th>\n",
              "      <th>PARO O INFARTO</th>\n",
              "      <th>INSUFICIENCIA RESPIRATORIA</th>\n",
              "      <th>INSUFICIENCIA RENAL</th>\n",
              "      <th>CIRROSIS</th>\n",
              "      <th>CHOQUE MEDICO</th>\n",
              "      <th>ACIDOSIS</th>\n",
              "      <th>ASFIXIA</th>\n",
              "      <th>OTRAS CAUSAS</th>\n",
              "    </tr>\n",
              "    <tr>\n",
              "      <th>ID</th>\n",
              "      <th></th>\n",
              "      <th></th>\n",
              "      <th></th>\n",
              "      <th></th>\n",
              "      <th></th>\n",
              "      <th></th>\n",
              "      <th></th>\n",
              "      <th></th>\n",
              "      <th></th>\n",
              "      <th></th>\n",
              "      <th></th>\n",
              "      <th></th>\n",
              "      <th></th>\n",
              "      <th></th>\n",
              "      <th></th>\n",
              "      <th></th>\n",
              "      <th></th>\n",
              "      <th></th>\n",
              "      <th></th>\n",
              "      <th></th>\n",
              "      <th></th>\n",
              "    </tr>\n",
              "  </thead>\n",
              "  <tbody>\n",
              "    <tr>\n",
              "      <th>5067980</th>\n",
              "      <td>846213</td>\n",
              "      <td>19100456</td>\n",
              "      <td>VI00</td>\n",
              "      <td>17/04/19</td>\n",
              "      <td>INFARTO AGUDO DEL MIOCARDIO</td>\n",
              "      <td>VI00-1503848-380</td>\n",
              "      <td>1</td>\n",
              "      <td>56</td>\n",
              "      <td>S</td>\n",
              "      <td>0</td>\n",
              "      <td>...</td>\n",
              "      <td>0</td>\n",
              "      <td>0</td>\n",
              "      <td>1</td>\n",
              "      <td>0</td>\n",
              "      <td>0</td>\n",
              "      <td>0</td>\n",
              "      <td>0</td>\n",
              "      <td>0</td>\n",
              "      <td>0</td>\n",
              "      <td>0</td>\n",
              "    </tr>\n",
              "    <tr>\n",
              "      <th>4758080</th>\n",
              "      <td>844600</td>\n",
              "      <td>19100445</td>\n",
              "      <td>VI00</td>\n",
              "      <td>23/04/19</td>\n",
              "      <td>OTRAS DIABETES MELLITUS ESPECIFICADAS</td>\n",
              "      <td>VI00-3531957-200</td>\n",
              "      <td>0</td>\n",
              "      <td>69</td>\n",
              "      <td>S</td>\n",
              "      <td>0</td>\n",
              "      <td>...</td>\n",
              "      <td>0</td>\n",
              "      <td>0</td>\n",
              "      <td>0</td>\n",
              "      <td>0</td>\n",
              "      <td>0</td>\n",
              "      <td>0</td>\n",
              "      <td>0</td>\n",
              "      <td>0</td>\n",
              "      <td>0</td>\n",
              "      <td>1</td>\n",
              "    </tr>\n",
              "    <tr>\n",
              "      <th>4202335</th>\n",
              "      <td>860740</td>\n",
              "      <td>19100522</td>\n",
              "      <td>VI00</td>\n",
              "      <td>27/04/19</td>\n",
              "      <td>ENFERMEDAD POR VIRUS DE LA INMUNODEFICIENCIA H...</td>\n",
              "      <td>VI00-3458173-200</td>\n",
              "      <td>1</td>\n",
              "      <td>32</td>\n",
              "      <td>S</td>\n",
              "      <td>0</td>\n",
              "      <td>...</td>\n",
              "      <td>0</td>\n",
              "      <td>0</td>\n",
              "      <td>0</td>\n",
              "      <td>0</td>\n",
              "      <td>0</td>\n",
              "      <td>0</td>\n",
              "      <td>0</td>\n",
              "      <td>0</td>\n",
              "      <td>0</td>\n",
              "      <td>1</td>\n",
              "    </tr>\n",
              "    <tr>\n",
              "      <th>4508048</th>\n",
              "      <td>868085</td>\n",
              "      <td>19100549</td>\n",
              "      <td>VI00</td>\n",
              "      <td>18/04/19</td>\n",
              "      <td>INSUFICIENCIA RENAL CRONICA</td>\n",
              "      <td>VI00-1550805-200</td>\n",
              "      <td>1</td>\n",
              "      <td>62</td>\n",
              "      <td>S</td>\n",
              "      <td>0</td>\n",
              "      <td>...</td>\n",
              "      <td>0</td>\n",
              "      <td>0</td>\n",
              "      <td>0</td>\n",
              "      <td>0</td>\n",
              "      <td>1</td>\n",
              "      <td>0</td>\n",
              "      <td>0</td>\n",
              "      <td>0</td>\n",
              "      <td>0</td>\n",
              "      <td>0</td>\n",
              "    </tr>\n",
              "    <tr>\n",
              "      <th>3782760</th>\n",
              "      <td>873200</td>\n",
              "      <td>19100573</td>\n",
              "      <td>VI00</td>\n",
              "      <td>03/05/19</td>\n",
              "      <td>CIRROSIS HEPATICA ALCOHOLICA</td>\n",
              "      <td>VI00-3399851-200</td>\n",
              "      <td>1</td>\n",
              "      <td>53</td>\n",
              "      <td>S</td>\n",
              "      <td>0</td>\n",
              "      <td>...</td>\n",
              "      <td>0</td>\n",
              "      <td>0</td>\n",
              "      <td>0</td>\n",
              "      <td>0</td>\n",
              "      <td>0</td>\n",
              "      <td>1</td>\n",
              "      <td>0</td>\n",
              "      <td>0</td>\n",
              "      <td>0</td>\n",
              "      <td>0</td>\n",
              "    </tr>\n",
              "  </tbody>\n",
              "</table>\n",
              "<p>5 rows × 22 columns</p>\n",
              "</div>\n",
              "      <button class=\"colab-df-convert\" onclick=\"convertToInteractive('df-c6ddc7f9-95f6-4ad3-9b92-e13eb6095ef6')\"\n",
              "              title=\"Convert this dataframe to an interactive table.\"\n",
              "              style=\"display:none;\">\n",
              "        \n",
              "  <svg xmlns=\"http://www.w3.org/2000/svg\" height=\"24px\"viewBox=\"0 0 24 24\"\n",
              "       width=\"24px\">\n",
              "    <path d=\"M0 0h24v24H0V0z\" fill=\"none\"/>\n",
              "    <path d=\"M18.56 5.44l.94 2.06.94-2.06 2.06-.94-2.06-.94-.94-2.06-.94 2.06-2.06.94zm-11 1L8.5 8.5l.94-2.06 2.06-.94-2.06-.94L8.5 2.5l-.94 2.06-2.06.94zm10 10l.94 2.06.94-2.06 2.06-.94-2.06-.94-.94-2.06-.94 2.06-2.06.94z\"/><path d=\"M17.41 7.96l-1.37-1.37c-.4-.4-.92-.59-1.43-.59-.52 0-1.04.2-1.43.59L10.3 9.45l-7.72 7.72c-.78.78-.78 2.05 0 2.83L4 21.41c.39.39.9.59 1.41.59.51 0 1.02-.2 1.41-.59l7.78-7.78 2.81-2.81c.8-.78.8-2.07 0-2.86zM5.41 20L4 18.59l7.72-7.72 1.47 1.35L5.41 20z\"/>\n",
              "  </svg>\n",
              "      </button>\n",
              "      \n",
              "  <style>\n",
              "    .colab-df-container {\n",
              "      display:flex;\n",
              "      flex-wrap:wrap;\n",
              "      gap: 12px;\n",
              "    }\n",
              "\n",
              "    .colab-df-convert {\n",
              "      background-color: #E8F0FE;\n",
              "      border: none;\n",
              "      border-radius: 50%;\n",
              "      cursor: pointer;\n",
              "      display: none;\n",
              "      fill: #1967D2;\n",
              "      height: 32px;\n",
              "      padding: 0 0 0 0;\n",
              "      width: 32px;\n",
              "    }\n",
              "\n",
              "    .colab-df-convert:hover {\n",
              "      background-color: #E2EBFA;\n",
              "      box-shadow: 0px 1px 2px rgba(60, 64, 67, 0.3), 0px 1px 3px 1px rgba(60, 64, 67, 0.15);\n",
              "      fill: #174EA6;\n",
              "    }\n",
              "\n",
              "    [theme=dark] .colab-df-convert {\n",
              "      background-color: #3B4455;\n",
              "      fill: #D2E3FC;\n",
              "    }\n",
              "\n",
              "    [theme=dark] .colab-df-convert:hover {\n",
              "      background-color: #434B5C;\n",
              "      box-shadow: 0px 1px 3px 1px rgba(0, 0, 0, 0.15);\n",
              "      filter: drop-shadow(0px 1px 2px rgba(0, 0, 0, 0.3));\n",
              "      fill: #FFFFFF;\n",
              "    }\n",
              "  </style>\n",
              "\n",
              "      <script>\n",
              "        const buttonEl =\n",
              "          document.querySelector('#df-c6ddc7f9-95f6-4ad3-9b92-e13eb6095ef6 button.colab-df-convert');\n",
              "        buttonEl.style.display =\n",
              "          google.colab.kernel.accessAllowed ? 'block' : 'none';\n",
              "\n",
              "        async function convertToInteractive(key) {\n",
              "          const element = document.querySelector('#df-c6ddc7f9-95f6-4ad3-9b92-e13eb6095ef6');\n",
              "          const dataTable =\n",
              "            await google.colab.kernel.invokeFunction('convertToInteractive',\n",
              "                                                     [key], {});\n",
              "          if (!dataTable) return;\n",
              "\n",
              "          const docLinkHtml = 'Like what you see? Visit the ' +\n",
              "            '<a target=\"_blank\" href=https://colab.research.google.com/notebooks/data_table.ipynb>data table notebook</a>'\n",
              "            + ' to learn more about interactive tables.';\n",
              "          element.innerHTML = '';\n",
              "          dataTable['output_type'] = 'display_data';\n",
              "          await google.colab.output.renderOutput(dataTable, element);\n",
              "          const docLink = document.createElement('div');\n",
              "          docLink.innerHTML = docLinkHtml;\n",
              "          element.appendChild(docLink);\n",
              "        }\n",
              "      </script>\n",
              "    </div>\n",
              "  </div>\n",
              "  "
            ]
          },
          "metadata": {},
          "execution_count": 2
        }
      ]
    },
    {
      "cell_type": "code",
      "source": [
        "siniestros.shape"
      ],
      "metadata": {
        "colab": {
          "base_uri": "https://localhost:8080/"
        },
        "id": "wUzPTaw6pnI7",
        "outputId": "32d2b35f-1544-4804-f694-a4bbbc13a442"
      },
      "execution_count": 3,
      "outputs": [
        {
          "output_type": "execute_result",
          "data": {
            "text/plain": [
              "(10451, 22)"
            ]
          },
          "metadata": {},
          "execution_count": 3
        }
      ]
    },
    {
      "cell_type": "code",
      "source": [
        "siniestros.dtypes"
      ],
      "metadata": {
        "colab": {
          "base_uri": "https://localhost:8080/"
        },
        "id": "dKMQEL00pqmg",
        "outputId": "45033233-cfeb-4fa8-e140-68b56a699849"
      },
      "execution_count": 4,
      "outputs": [
        {
          "output_type": "execute_result",
          "data": {
            "text/plain": [
              "IDSIN                          int64\n",
              "NUMSIN                         int64\n",
              "CODSIN                        object\n",
              "OCURRIDO                      object\n",
              "DIAGNOSTICO                   object\n",
              "POLIZA                        object\n",
              "SEXO                           int64\n",
              "EDAD                           int64\n",
              "FALLECIDO                     object\n",
              "COVID                          int64\n",
              "SOSPECHA COVID                 int64\n",
              "TUMOR MALIGNO                  int64\n",
              "DIABETES                       int64\n",
              "NEUMONIA                       int64\n",
              "PARO O INFARTO                 int64\n",
              "INSUFICIENCIA RESPIRATORIA     int64\n",
              "INSUFICIENCIA RENAL            int64\n",
              "CIRROSIS                       int64\n",
              "CHOQUE MEDICO                  int64\n",
              "ACIDOSIS                       int64\n",
              "ASFIXIA                        int64\n",
              "OTRAS CAUSAS                   int64\n",
              "dtype: object"
            ]
          },
          "metadata": {},
          "execution_count": 4
        }
      ]
    },
    {
      "cell_type": "code",
      "source": [
        "#necesitamos transformar las columnas fecha en dicho tipo de dato\n",
        "diccionario_de_conversion = {\n",
        "    'OCURRIDO': 'datetime64[ns]'\n",
        "}\n",
        "\n",
        "siniestros = siniestros.astype(diccionario_de_conversion)\n",
        "siniestros.dtypes"
      ],
      "metadata": {
        "colab": {
          "base_uri": "https://localhost:8080/"
        },
        "id": "qwX8Y0FNqHdV",
        "outputId": "9df5c723-95fe-480b-8b73-cd08cc053d32"
      },
      "execution_count": 5,
      "outputs": [
        {
          "output_type": "execute_result",
          "data": {
            "text/plain": [
              "IDSIN                                  int64\n",
              "NUMSIN                                 int64\n",
              "CODSIN                                object\n",
              "OCURRIDO                      datetime64[ns]\n",
              "DIAGNOSTICO                           object\n",
              "POLIZA                                object\n",
              "SEXO                                   int64\n",
              "EDAD                                   int64\n",
              "FALLECIDO                             object\n",
              "COVID                                  int64\n",
              "SOSPECHA COVID                         int64\n",
              "TUMOR MALIGNO                          int64\n",
              "DIABETES                               int64\n",
              "NEUMONIA                               int64\n",
              "PARO O INFARTO                         int64\n",
              "INSUFICIENCIA RESPIRATORIA             int64\n",
              "INSUFICIENCIA RENAL                    int64\n",
              "CIRROSIS                               int64\n",
              "CHOQUE MEDICO                          int64\n",
              "ACIDOSIS                               int64\n",
              "ASFIXIA                                int64\n",
              "OTRAS CAUSAS                           int64\n",
              "dtype: object"
            ]
          },
          "metadata": {},
          "execution_count": 5
        }
      ]
    },
    {
      "cell_type": "code",
      "source": [
        "#determinamos cuantos NaN tenemos por columna\n",
        "siniestros.isna().sum(axis=0)"
      ],
      "metadata": {
        "colab": {
          "base_uri": "https://localhost:8080/"
        },
        "id": "5CxTsbz_qnJx",
        "outputId": "ce384e55-69fb-4ab2-836b-657fb2ef4061"
      },
      "execution_count": 6,
      "outputs": [
        {
          "output_type": "execute_result",
          "data": {
            "text/plain": [
              "IDSIN                         0\n",
              "NUMSIN                        0\n",
              "CODSIN                        0\n",
              "OCURRIDO                      0\n",
              "DIAGNOSTICO                   0\n",
              "POLIZA                        0\n",
              "SEXO                          0\n",
              "EDAD                          0\n",
              "FALLECIDO                     0\n",
              "COVID                         0\n",
              "SOSPECHA COVID                0\n",
              "TUMOR MALIGNO                 0\n",
              "DIABETES                      0\n",
              "NEUMONIA                      0\n",
              "PARO O INFARTO                0\n",
              "INSUFICIENCIA RESPIRATORIA    0\n",
              "INSUFICIENCIA RENAL           0\n",
              "CIRROSIS                      0\n",
              "CHOQUE MEDICO                 0\n",
              "ACIDOSIS                      0\n",
              "ASFIXIA                       0\n",
              "OTRAS CAUSAS                  0\n",
              "dtype: int64"
            ]
          },
          "metadata": {},
          "execution_count": 6
        }
      ]
    },
    {
      "cell_type": "code",
      "source": [
        "#ahora determinamos por fila\n",
        "siniestros.isna().sum(axis=1)"
      ],
      "metadata": {
        "colab": {
          "base_uri": "https://localhost:8080/"
        },
        "id": "QLyVmuCaqw6K",
        "outputId": "55796767-43f1-44e0-a2a0-04436259d5a9"
      },
      "execution_count": 7,
      "outputs": [
        {
          "output_type": "execute_result",
          "data": {
            "text/plain": [
              "ID\n",
              "5067980     0\n",
              "4758080     0\n",
              "4202335     0\n",
              "4508048     0\n",
              "3782760     0\n",
              "           ..\n",
              "8753986     0\n",
              "6909394     0\n",
              "6919216     0\n",
              "6919086     0\n",
              "12767936    0\n",
              "Length: 10451, dtype: int64"
            ]
          },
          "metadata": {},
          "execution_count": 7
        }
      ]
    },
    {
      "cell_type": "code",
      "source": [
        "#ya tenemos los datos como queremos, resolvamos preguntas\n",
        "#Cantidad de siniestros por sexo\n",
        "siniestros.groupby('SEXO').size()"
      ],
      "metadata": {
        "colab": {
          "base_uri": "https://localhost:8080/"
        },
        "id": "Vsz2MCTYq2b3",
        "outputId": "c80187c9-0d9a-4059-d7cd-c757ba899f71"
      },
      "execution_count": 8,
      "outputs": [
        {
          "output_type": "execute_result",
          "data": {
            "text/plain": [
              "SEXO\n",
              "0    2597\n",
              "1    7854\n",
              "dtype: int64"
            ]
          },
          "metadata": {},
          "execution_count": 8
        }
      ]
    },
    {
      "cell_type": "code",
      "source": [
        "#Determinamos promedio, mediana, maxima y minima edad por producto y diagnostico\n",
        "siniestros.groupby(['CODSIN','DIAGNOSTICO'])['EDAD'].agg(['mean', 'median','max', 'min'])"
      ],
      "metadata": {
        "colab": {
          "base_uri": "https://localhost:8080/",
          "height": 455
        },
        "id": "Y6KckyfsrRTr",
        "outputId": "947365e2-84f9-4817-e3fe-f0a2d58c1519"
      },
      "execution_count": 9,
      "outputs": [
        {
          "output_type": "execute_result",
          "data": {
            "text/plain": [
              "                                                           mean  median  max  \\\n",
              "CODSIN DIAGNOSTICO                                                             \n",
              "VI00   ABDOMEN AGUDO                                       64.0    64.0   64   \n",
              "       ABSCESO CEREBRAL FEOMICOTICO                        53.0    53.0   53   \n",
              "       ACCIDENTE VASCULAR ENCEFALICO AGUDO NO ESPECIFI...  55.4    50.0   72   \n",
              "       ACIDOSIS                                            47.1    48.0   66   \n",
              "       ACIDOSIS METABOLICA TARDIA DEL RECIEN NACIDO        64.0    64.0   64   \n",
              "...                                                         ...     ...  ...   \n",
              "VI27   TUMOR MALIGNO DEL HIGADO, NO ESPECIFICADO           59.0    59.0   59   \n",
              "       TUMOR MALIGNO DEL OVARIO                            72.0    72.0   72   \n",
              "VI33   DIABETES MELLITUS NO INSULINODEPENDIENTE SIN ME...  72.5    72.5   73   \n",
              "       ENFERMEDAD PULMONAR OBSTRUCTIVA CRONICA CON EXA...  89.0    89.0   89   \n",
              "VI37   TUMOR MALIGNO DEL ENDOMETRIO                        71.0    71.0   71   \n",
              "\n",
              "                                                           min  \n",
              "CODSIN DIAGNOSTICO                                              \n",
              "VI00   ABDOMEN AGUDO                                        64  \n",
              "       ABSCESO CEREBRAL FEOMICOTICO                         53  \n",
              "       ACCIDENTE VASCULAR ENCEFALICO AGUDO NO ESPECIFI...   40  \n",
              "       ACIDOSIS                                             31  \n",
              "       ACIDOSIS METABOLICA TARDIA DEL RECIEN NACIDO         64  \n",
              "...                                                        ...  \n",
              "VI27   TUMOR MALIGNO DEL HIGADO, NO ESPECIFICADO            59  \n",
              "       TUMOR MALIGNO DEL OVARIO                             72  \n",
              "VI33   DIABETES MELLITUS NO INSULINODEPENDIENTE SIN ME...   72  \n",
              "       ENFERMEDAD PULMONAR OBSTRUCTIVA CRONICA CON EXA...   89  \n",
              "VI37   TUMOR MALIGNO DEL ENDOMETRIO                         71  \n",
              "\n",
              "[1605 rows x 4 columns]"
            ],
            "text/html": [
              "\n",
              "  <div id=\"df-40d1d372-96d9-4415-ac6e-5fa9c5340a6e\">\n",
              "    <div class=\"colab-df-container\">\n",
              "      <div>\n",
              "<style scoped>\n",
              "    .dataframe tbody tr th:only-of-type {\n",
              "        vertical-align: middle;\n",
              "    }\n",
              "\n",
              "    .dataframe tbody tr th {\n",
              "        vertical-align: top;\n",
              "    }\n",
              "\n",
              "    .dataframe thead th {\n",
              "        text-align: right;\n",
              "    }\n",
              "</style>\n",
              "<table border=\"1\" class=\"dataframe\">\n",
              "  <thead>\n",
              "    <tr style=\"text-align: right;\">\n",
              "      <th></th>\n",
              "      <th></th>\n",
              "      <th>mean</th>\n",
              "      <th>median</th>\n",
              "      <th>max</th>\n",
              "      <th>min</th>\n",
              "    </tr>\n",
              "    <tr>\n",
              "      <th>CODSIN</th>\n",
              "      <th>DIAGNOSTICO</th>\n",
              "      <th></th>\n",
              "      <th></th>\n",
              "      <th></th>\n",
              "      <th></th>\n",
              "    </tr>\n",
              "  </thead>\n",
              "  <tbody>\n",
              "    <tr>\n",
              "      <th rowspan=\"5\" valign=\"top\">VI00</th>\n",
              "      <th>ABDOMEN AGUDO</th>\n",
              "      <td>64.0</td>\n",
              "      <td>64.0</td>\n",
              "      <td>64</td>\n",
              "      <td>64</td>\n",
              "    </tr>\n",
              "    <tr>\n",
              "      <th>ABSCESO CEREBRAL FEOMICOTICO</th>\n",
              "      <td>53.0</td>\n",
              "      <td>53.0</td>\n",
              "      <td>53</td>\n",
              "      <td>53</td>\n",
              "    </tr>\n",
              "    <tr>\n",
              "      <th>ACCIDENTE VASCULAR ENCEFALICO AGUDO NO ESPECIFICADO COMO HEMORRAGICO O ISQUEMICO</th>\n",
              "      <td>55.4</td>\n",
              "      <td>50.0</td>\n",
              "      <td>72</td>\n",
              "      <td>40</td>\n",
              "    </tr>\n",
              "    <tr>\n",
              "      <th>ACIDOSIS</th>\n",
              "      <td>47.1</td>\n",
              "      <td>48.0</td>\n",
              "      <td>66</td>\n",
              "      <td>31</td>\n",
              "    </tr>\n",
              "    <tr>\n",
              "      <th>ACIDOSIS METABOLICA TARDIA DEL RECIEN NACIDO</th>\n",
              "      <td>64.0</td>\n",
              "      <td>64.0</td>\n",
              "      <td>64</td>\n",
              "      <td>64</td>\n",
              "    </tr>\n",
              "    <tr>\n",
              "      <th>...</th>\n",
              "      <th>...</th>\n",
              "      <td>...</td>\n",
              "      <td>...</td>\n",
              "      <td>...</td>\n",
              "      <td>...</td>\n",
              "    </tr>\n",
              "    <tr>\n",
              "      <th rowspan=\"2\" valign=\"top\">VI27</th>\n",
              "      <th>TUMOR MALIGNO DEL HIGADO, NO ESPECIFICADO</th>\n",
              "      <td>59.0</td>\n",
              "      <td>59.0</td>\n",
              "      <td>59</td>\n",
              "      <td>59</td>\n",
              "    </tr>\n",
              "    <tr>\n",
              "      <th>TUMOR MALIGNO DEL OVARIO</th>\n",
              "      <td>72.0</td>\n",
              "      <td>72.0</td>\n",
              "      <td>72</td>\n",
              "      <td>72</td>\n",
              "    </tr>\n",
              "    <tr>\n",
              "      <th rowspan=\"2\" valign=\"top\">VI33</th>\n",
              "      <th>DIABETES MELLITUS NO INSULINODEPENDIENTE SIN MENCION DE COMPLICACION</th>\n",
              "      <td>72.5</td>\n",
              "      <td>72.5</td>\n",
              "      <td>73</td>\n",
              "      <td>72</td>\n",
              "    </tr>\n",
              "    <tr>\n",
              "      <th>ENFERMEDAD PULMONAR OBSTRUCTIVA CRONICA CON EXACERBACION AGUDA, NO ESPECIFICADA</th>\n",
              "      <td>89.0</td>\n",
              "      <td>89.0</td>\n",
              "      <td>89</td>\n",
              "      <td>89</td>\n",
              "    </tr>\n",
              "    <tr>\n",
              "      <th>VI37</th>\n",
              "      <th>TUMOR MALIGNO DEL ENDOMETRIO</th>\n",
              "      <td>71.0</td>\n",
              "      <td>71.0</td>\n",
              "      <td>71</td>\n",
              "      <td>71</td>\n",
              "    </tr>\n",
              "  </tbody>\n",
              "</table>\n",
              "<p>1605 rows × 4 columns</p>\n",
              "</div>\n",
              "      <button class=\"colab-df-convert\" onclick=\"convertToInteractive('df-40d1d372-96d9-4415-ac6e-5fa9c5340a6e')\"\n",
              "              title=\"Convert this dataframe to an interactive table.\"\n",
              "              style=\"display:none;\">\n",
              "        \n",
              "  <svg xmlns=\"http://www.w3.org/2000/svg\" height=\"24px\"viewBox=\"0 0 24 24\"\n",
              "       width=\"24px\">\n",
              "    <path d=\"M0 0h24v24H0V0z\" fill=\"none\"/>\n",
              "    <path d=\"M18.56 5.44l.94 2.06.94-2.06 2.06-.94-2.06-.94-.94-2.06-.94 2.06-2.06.94zm-11 1L8.5 8.5l.94-2.06 2.06-.94-2.06-.94L8.5 2.5l-.94 2.06-2.06.94zm10 10l.94 2.06.94-2.06 2.06-.94-2.06-.94-.94-2.06-.94 2.06-2.06.94z\"/><path d=\"M17.41 7.96l-1.37-1.37c-.4-.4-.92-.59-1.43-.59-.52 0-1.04.2-1.43.59L10.3 9.45l-7.72 7.72c-.78.78-.78 2.05 0 2.83L4 21.41c.39.39.9.59 1.41.59.51 0 1.02-.2 1.41-.59l7.78-7.78 2.81-2.81c.8-.78.8-2.07 0-2.86zM5.41 20L4 18.59l7.72-7.72 1.47 1.35L5.41 20z\"/>\n",
              "  </svg>\n",
              "      </button>\n",
              "      \n",
              "  <style>\n",
              "    .colab-df-container {\n",
              "      display:flex;\n",
              "      flex-wrap:wrap;\n",
              "      gap: 12px;\n",
              "    }\n",
              "\n",
              "    .colab-df-convert {\n",
              "      background-color: #E8F0FE;\n",
              "      border: none;\n",
              "      border-radius: 50%;\n",
              "      cursor: pointer;\n",
              "      display: none;\n",
              "      fill: #1967D2;\n",
              "      height: 32px;\n",
              "      padding: 0 0 0 0;\n",
              "      width: 32px;\n",
              "    }\n",
              "\n",
              "    .colab-df-convert:hover {\n",
              "      background-color: #E2EBFA;\n",
              "      box-shadow: 0px 1px 2px rgba(60, 64, 67, 0.3), 0px 1px 3px 1px rgba(60, 64, 67, 0.15);\n",
              "      fill: #174EA6;\n",
              "    }\n",
              "\n",
              "    [theme=dark] .colab-df-convert {\n",
              "      background-color: #3B4455;\n",
              "      fill: #D2E3FC;\n",
              "    }\n",
              "\n",
              "    [theme=dark] .colab-df-convert:hover {\n",
              "      background-color: #434B5C;\n",
              "      box-shadow: 0px 1px 3px 1px rgba(0, 0, 0, 0.15);\n",
              "      filter: drop-shadow(0px 1px 2px rgba(0, 0, 0, 0.3));\n",
              "      fill: #FFFFFF;\n",
              "    }\n",
              "  </style>\n",
              "\n",
              "      <script>\n",
              "        const buttonEl =\n",
              "          document.querySelector('#df-40d1d372-96d9-4415-ac6e-5fa9c5340a6e button.colab-df-convert');\n",
              "        buttonEl.style.display =\n",
              "          google.colab.kernel.accessAllowed ? 'block' : 'none';\n",
              "\n",
              "        async function convertToInteractive(key) {\n",
              "          const element = document.querySelector('#df-40d1d372-96d9-4415-ac6e-5fa9c5340a6e');\n",
              "          const dataTable =\n",
              "            await google.colab.kernel.invokeFunction('convertToInteractive',\n",
              "                                                     [key], {});\n",
              "          if (!dataTable) return;\n",
              "\n",
              "          const docLinkHtml = 'Like what you see? Visit the ' +\n",
              "            '<a target=\"_blank\" href=https://colab.research.google.com/notebooks/data_table.ipynb>data table notebook</a>'\n",
              "            + ' to learn more about interactive tables.';\n",
              "          element.innerHTML = '';\n",
              "          dataTable['output_type'] = 'display_data';\n",
              "          await google.colab.output.renderOutput(dataTable, element);\n",
              "          const docLink = document.createElement('div');\n",
              "          docLink.innerHTML = docLinkHtml;\n",
              "          element.appendChild(docLink);\n",
              "        }\n",
              "      </script>\n",
              "    </div>\n",
              "  </div>\n",
              "  "
            ]
          },
          "metadata": {},
          "execution_count": 9
        }
      ]
    },
    {
      "cell_type": "code",
      "source": [
        "#Por sexo y edad, cantidad de siniestros por producto y diagnostico\n",
        "#Sexo 0 = FEMENINO, 1 = MASCULINO\n",
        "siniestros.groupby(['SEXO','EDAD'])['CODSIN', 'DIAGNOSTICO'].value_counts()"
      ],
      "metadata": {
        "colab": {
          "base_uri": "https://localhost:8080/"
        },
        "id": "lSpvyHsIFiE3",
        "outputId": "0ae035ed-5834-48cb-e26a-f5839b35e95c"
      },
      "execution_count": 10,
      "outputs": [
        {
          "output_type": "execute_result",
          "data": {
            "text/plain": [
              "SEXO  EDAD  CODSIN  DIAGNOSTICO                                                                    \n",
              "0     19    VI17    PROBLEMAS RELACIONADOS CON EL DESEMPLEO, NO ESPECIFICADOS                          1\n",
              "      21    VI17    PROBLEMAS RELACIONADOS CON EL EMPLEO Y EL DESEMPLEO                                1\n",
              "      22    VI17    PROBLEMAS RELACIONADOS CON EL DESEMPLEO, NO ESPECIFICADOS                          3\n",
              "      23    VI08    TUMOR BENIGNO DE LOS HUESOS PELVICOS, SACRO Y COCCIX                               2\n",
              "            VI17    PROBLEMAS RELACIONADOS CON EL EMPLEO Y EL DESEMPLEO                                1\n",
              "                                                                                                      ..\n",
              "1     87    VI27    CHOQUE HIPOVOLEMICO                                                                1\n",
              "      88    VI26    ASFIXIA                                                                            1\n",
              "      89    VI33    ENFERMEDAD PULMONAR OBSTRUCTIVA CRONICA CON EXACERBACION AGUDA, NO ESPECIFICADA    1\n",
              "      93    VI27    DIABETES MELLITUS NO ESPECIFICADA                                                  1\n",
              "      94    VI27    INFARTO AGUDO DEL MIOCARDIO                                                        1\n",
              "Length: 5427, dtype: int64"
            ]
          },
          "metadata": {},
          "execution_count": 10
        }
      ]
    },
    {
      "cell_type": "code",
      "source": [
        "#Determinamos la mayor causa de fallecimiento según sexo y edad\n",
        "#Sexo 0 = FEMENINO, 1 = MASCULINO\n",
        "siniestros.groupby(['DIAGNOSTICO'])['SEXO'].value_counts()"
      ],
      "metadata": {
        "colab": {
          "base_uri": "https://localhost:8080/"
        },
        "id": "5kmyAIceGFTO",
        "outputId": "b9657b42-bb81-40f7-a748-7f8250f9b4ff"
      },
      "execution_count": 11,
      "outputs": [
        {
          "output_type": "execute_result",
          "data": {
            "text/plain": [
              "DIAGNOSTICO                                                    SEXO\n",
              "ABDOMEN AGUDO                                                  1       4\n",
              "                                                               0       1\n",
              "ABSCESO AMEBIANO DEL HIGADO                                    1       1\n",
              "ABSCESO ANAL                                                   1       1\n",
              "ABSCESO CEREBRAL FEOMICOTICO                                   1       2\n",
              "                                                                      ..\n",
              "URETRITIS Y SINDROME URETRAL                                   0       1\n",
              "VARICES ESOFAGICAS EN ENFERMEDADES CLASIFICADAS EN OTRA PARTE  1       1\n",
              "VENAS VARICOSAS DE LOS MIEMBROS INFERIORES CON INFLAMACION     0       1\n",
              "VERRUGAS (VENEREAS) ANOGENITALES                               1       1\n",
              "VOLVULO                                                        0       1\n",
              "Name: SEXO, Length: 1044, dtype: int64"
            ]
          },
          "metadata": {},
          "execution_count": 11
        }
      ]
    },
    {
      "cell_type": "code",
      "source": [
        "#Fallecimientos por sexo y en rango de edades (mayores de 30 año y menores o igual a 65 años)\n",
        "aseg_mayor_30 = siniestros['EDAD'] > 30\n",
        "aseg_menor_65 = siniestros['EDAD'] <= 65\n",
        "siniestros[aseg_mayor_30 & aseg_menor_65].groupby(['SEXO'])['EDAD', 'DIAGNOSTICO'].value_counts()"
      ],
      "metadata": {
        "colab": {
          "base_uri": "https://localhost:8080/"
        },
        "id": "79Y_uIvTG1Ft",
        "outputId": "b6ac5244-de2a-4015-83b1-eddd3dd1d04a"
      },
      "execution_count": 12,
      "outputs": [
        {
          "output_type": "execute_result",
          "data": {
            "text/plain": [
              "SEXO  EDAD  DIAGNOSTICO                                                                        \n",
              "0     49    PROBLEMAS RELACIONADOS CON EL DESEMPLEO, NO ESPECIFICADOS                              20\n",
              "      32    PROBLEMAS RELACIONADOS CON EL DESEMPLEO, NO ESPECIFICADOS                              20\n",
              "      60    CASOS CONFIRMADOS PARA LA ENFERMEDAD RESPIRATORIA AGUDA DEBIDO AL NUEVO CORONAVIRUS    17\n",
              "      39    PROBLEMAS RELACIONADOS CON EL DESEMPLEO, NO ESPECIFICADOS                              16\n",
              "      59    CASOS CONFIRMADOS PARA LA ENFERMEDAD RESPIRATORIA AGUDA DEBIDO AL NUEVO CORONAVIRUS    15\n",
              "                                                                                                   ..\n",
              "1     37    CONVULSIONES NO CLASIFICADAS EN OTRA PARTE                                              1\n",
              "            CONTUSION DEL TORAX                                                                     1\n",
              "            CHOQUE NO CLASIFICADO EN OTRA PARTE                                                     1\n",
              "            CHOQUE HIPOVOLEMICO                                                                     1\n",
              "      65    TUMOR MALIGNO DEL PANCREAS                                                              1\n",
              "Length: 2652, dtype: int64"
            ]
          },
          "metadata": {},
          "execution_count": 12
        }
      ]
    },
    {
      "cell_type": "code",
      "source": [
        "siniestros.columns"
      ],
      "metadata": {
        "colab": {
          "base_uri": "https://localhost:8080/"
        },
        "id": "5Sfs4-8FHrex",
        "outputId": "64424e9d-38c3-43e1-90b1-7242824bcad1"
      },
      "execution_count": 13,
      "outputs": [
        {
          "output_type": "execute_result",
          "data": {
            "text/plain": [
              "Index(['IDSIN', 'NUMSIN', 'CODSIN', 'OCURRIDO', 'DIAGNOSTICO', 'POLIZA',\n",
              "       'SEXO', 'EDAD', 'FALLECIDO', 'COVID', 'SOSPECHA COVID', 'TUMOR MALIGNO',\n",
              "       'DIABETES', 'NEUMONIA', 'PARO O INFARTO', 'INSUFICIENCIA RESPIRATORIA',\n",
              "       'INSUFICIENCIA RENAL', 'CIRROSIS', 'CHOQUE MEDICO', 'ACIDOSIS',\n",
              "       'ASFIXIA', 'OTRAS CAUSAS'],\n",
              "      dtype='object')"
            ]
          },
          "metadata": {},
          "execution_count": 13
        }
      ]
    },
    {
      "cell_type": "code",
      "source": [
        "# Datos estadísticos de interés.\n",
        "siniestros.EDAD.describe()"
      ],
      "metadata": {
        "colab": {
          "base_uri": "https://localhost:8080/"
        },
        "id": "oUPfNOnpHum5",
        "outputId": "06614bf1-b811-487d-8dd4-d0c26661f7a3"
      },
      "execution_count": 14,
      "outputs": [
        {
          "output_type": "execute_result",
          "data": {
            "text/plain": [
              "count    10451.000000\n",
              "mean        53.721749\n",
              "std         13.321296\n",
              "min         19.000000\n",
              "25%         44.000000\n",
              "50%         56.000000\n",
              "75%         64.000000\n",
              "max         98.000000\n",
              "Name: EDAD, dtype: float64"
            ]
          },
          "metadata": {},
          "execution_count": 14
        }
      ]
    },
    {
      "cell_type": "code",
      "source": [
        "# Diagrama de caja.\n",
        "sns.set_style(\"whitegrid\")\n",
        "sns.boxplot(x=siniestros['EDAD']);"
      ],
      "metadata": {
        "colab": {
          "base_uri": "https://localhost:8080/",
          "height": 449
        },
        "id": "Jm_OV7l1H66_",
        "outputId": "ce0b7f97-8470-4dc7-b435-2a2436cfed29"
      },
      "execution_count": 15,
      "outputs": [
        {
          "output_type": "display_data",
          "data": {
            "text/plain": [
              "<Figure size 640x480 with 1 Axes>"
            ],
            "image/png": "[encoded data removed]"
          },
          "metadata": {}
        }
      ]
    },
    {
      "cell_type": "code",
      "source": [
        "# Histograma\n",
        "sns.set_style('ticks')\n",
        "sns.displot(siniestros['EDAD'], kde=False, bins=20);"
      ],
      "metadata": {
        "colab": {
          "base_uri": "https://localhost:8080/",
          "height": 506
        },
        "id": "8elvzvV0IDa8",
        "outputId": "c2a11da5-6e06-498a-d996-973602d76baa"
      },
      "execution_count": 16,
      "outputs": [
        {
          "output_type": "display_data",
          "data": {
            "text/plain": [
              "<Figure size 500x500 with 1 Axes>"
            ],
            "image/png": "[encoded data removed]"
          },
          "metadata": {}
        }
      ]
    },
    {
      "cell_type": "code",
      "source": [
        "siniestros.mode().head(1)[['DIAGNOSTICO', 'COVID', 'SOSPECHA COVID', 'TUMOR MALIGNO', 'DIABETES', 'NEUMONIA', 'PARO O INFARTO', 'INSUFICIENCIA RESPIRATORIA', 'INSUFICIENCIA RENAL', 'CIRROSIS', 'CHOQUE MEDICO', 'ACIDOSIS', 'ASFIXIA', 'OTRAS CAUSAS']]\n"
      ],
      "metadata": {
        "colab": {
          "base_uri": "https://localhost:8080/",
          "height": 159
        },
        "id": "cebZwdsxIbGo",
        "outputId": "3670a031-9a92-44c9-b29b-0a03a29662c6"
      },
      "execution_count": 17,
      "outputs": [
        {
          "output_type": "execute_result",
          "data": {
            "text/plain": [
              "                                         DIAGNOSTICO  COVID  SOSPECHA COVID  \\\n",
              "0  CASOS CONFIRMADOS PARA LA ENFERMEDAD RESPIRATO...    0.0             0.0   \n",
              "\n",
              "   TUMOR MALIGNO  DIABETES  NEUMONIA  PARO O INFARTO  \\\n",
              "0            0.0       0.0       0.0             0.0   \n",
              "\n",
              "   INSUFICIENCIA RESPIRATORIA  INSUFICIENCIA RENAL  CIRROSIS  CHOQUE MEDICO  \\\n",
              "0                         0.0                  0.0       0.0            0.0   \n",
              "\n",
              "   ACIDOSIS  ASFIXIA  OTRAS CAUSAS  \n",
              "0       0.0      0.0           0.0  "
            ],
            "text/html": [
              "\n",
              "  <div id=\"df-e4c21efa-a850-4913-9a0f-7e7f5fc13f94\">\n",
              "    <div class=\"colab-df-container\">\n",
              "      <div>\n",
              "<style scoped>\n",
              "    .dataframe tbody tr th:only-of-type {\n",
              "        vertical-align: middle;\n",
              "    }\n",
              "\n",
              "    .dataframe tbody tr th {\n",
              "        vertical-align: top;\n",
              "    }\n",
              "\n",
              "    .dataframe thead th {\n",
              "        text-align: right;\n",
              "    }\n",
              "</style>\n",
              "<table border=\"1\" class=\"dataframe\">\n",
              "  <thead>\n",
              "    <tr style=\"text-align: right;\">\n",
              "      <th></th>\n",
              "      <th>DIAGNOSTICO</th>\n",
              "      <th>COVID</th>\n",
              "      <th>SOSPECHA COVID</th>\n",
              "      <th>TUMOR MALIGNO</th>\n",
              "      <th>DIABETES</th>\n",
              "      <th>NEUMONIA</th>\n",
              "      <th>PARO O INFARTO</th>\n",
              "      <th>INSUFICIENCIA RESPIRATORIA</th>\n",
              "      <th>INSUFICIENCIA RENAL</th>\n",
              "      <th>CIRROSIS</th>\n",
              "      <th>CHOQUE MEDICO</th>\n",
              "      <th>ACIDOSIS</th>\n",
              "      <th>ASFIXIA</th>\n",
              "      <th>OTRAS CAUSAS</th>\n",
              "    </tr>\n",
              "  </thead>\n",
              "  <tbody>\n",
              "    <tr>\n",
              "      <th>0</th>\n",
              "      <td>CASOS CONFIRMADOS PARA LA ENFERMEDAD RESPIRATO...</td>\n",
              "      <td>0.0</td>\n",
              "      <td>0.0</td>\n",
              "      <td>0.0</td>\n",
              "      <td>0.0</td>\n",
              "      <td>0.0</td>\n",
              "      <td>0.0</td>\n",
              "      <td>0.0</td>\n",
              "      <td>0.0</td>\n",
              "      <td>0.0</td>\n",
              "      <td>0.0</td>\n",
              "      <td>0.0</td>\n",
              "      <td>0.0</td>\n",
              "      <td>0.0</td>\n",
              "    </tr>\n",
              "  </tbody>\n",
              "</table>\n",
              "</div>\n",
              "      <button class=\"colab-df-convert\" onclick=\"convertToInteractive('df-e4c21efa-a850-4913-9a0f-7e7f5fc13f94')\"\n",
              "              title=\"Convert this dataframe to an interactive table.\"\n",
              "              style=\"display:none;\">\n",
              "        \n",
              "  <svg xmlns=\"http://www.w3.org/2000/svg\" height=\"24px\"viewBox=\"0 0 24 24\"\n",
              "       width=\"24px\">\n",
              "    <path d=\"M0 0h24v24H0V0z\" fill=\"none\"/>\n",
              "    <path d=\"M18.56 5.44l.94 2.06.94-2.06 2.06-.94-2.06-.94-.94-2.06-.94 2.06-2.06.94zm-11 1L8.5 8.5l.94-2.06 2.06-.94-2.06-.94L8.5 2.5l-.94 2.06-2.06.94zm10 10l.94 2.06.94-2.06 2.06-.94-2.06-.94-.94-2.06-.94 2.06-2.06.94z\"/><path d=\"M17.41 7.96l-1.37-1.37c-.4-.4-.92-.59-1.43-.59-.52 0-1.04.2-1.43.59L10.3 9.45l-7.72 7.72c-.78.78-.78 2.05 0 2.83L4 21.41c.39.39.9.59 1.41.59.51 0 1.02-.2 1.41-.59l7.78-7.78 2.81-2.81c.8-.78.8-2.07 0-2.86zM5.41 20L4 18.59l7.72-7.72 1.47 1.35L5.41 20z\"/>\n",
              "  </svg>\n",
              "      </button>\n",
              "      \n",
              "  <style>\n",
              "    .colab-df-container {\n",
              "      display:flex;\n",
              "      flex-wrap:wrap;\n",
              "      gap: 12px;\n",
              "    }\n",
              "\n",
              "    .colab-df-convert {\n",
              "      background-color: #E8F0FE;\n",
              "      border: none;\n",
              "      border-radius: 50%;\n",
              "      cursor: pointer;\n",
              "      display: none;\n",
              "      fill: #1967D2;\n",
              "      height: 32px;\n",
              "      padding: 0 0 0 0;\n",
              "      width: 32px;\n",
              "    }\n",
              "\n",
              "    .colab-df-convert:hover {\n",
              "      background-color: #E2EBFA;\n",
              "      box-shadow: 0px 1px 2px rgba(60, 64, 67, 0.3), 0px 1px 3px 1px rgba(60, 64, 67, 0.15);\n",
              "      fill: #174EA6;\n",
              "    }\n",
              "\n",
              "    [theme=dark] .colab-df-convert {\n",
              "      background-color: #3B4455;\n",
              "      fill: #D2E3FC;\n",
              "    }\n",
              "\n",
              "    [theme=dark] .colab-df-convert:hover {\n",
              "      background-color: #434B5C;\n",
              "      box-shadow: 0px 1px 3px 1px rgba(0, 0, 0, 0.15);\n",
              "      filter: drop-shadow(0px 1px 2px rgba(0, 0, 0, 0.3));\n",
              "      fill: #FFFFFF;\n",
              "    }\n",
              "  </style>\n",
              "\n",
              "      <script>\n",
              "        const buttonEl =\n",
              "          document.querySelector('#df-e4c21efa-a850-4913-9a0f-7e7f5fc13f94 button.colab-df-convert');\n",
              "        buttonEl.style.display =\n",
              "          google.colab.kernel.accessAllowed ? 'block' : 'none';\n",
              "\n",
              "        async function convertToInteractive(key) {\n",
              "          const element = document.querySelector('#df-e4c21efa-a850-4913-9a0f-7e7f5fc13f94');\n",
              "          const dataTable =\n",
              "            await google.colab.kernel.invokeFunction('convertToInteractive',\n",
              "                                                     [key], {});\n",
              "          if (!dataTable) return;\n",
              "\n",
              "          const docLinkHtml = 'Like what you see? Visit the ' +\n",
              "            '<a target=\"_blank\" href=https://colab.research.google.com/notebooks/data_table.ipynb>data table notebook</a>'\n",
              "            + ' to learn more about interactive tables.';\n",
              "          element.innerHTML = '';\n",
              "          dataTable['output_type'] = 'display_data';\n",
              "          await google.colab.output.renderOutput(dataTable, element);\n",
              "          const docLink = document.createElement('div');\n",
              "          docLink.innerHTML = docLinkHtml;\n",
              "          element.appendChild(docLink);\n",
              "        }\n",
              "      </script>\n",
              "    </div>\n",
              "  </div>\n",
              "  "
            ]
          },
          "metadata": {},
          "execution_count": 17
        }
      ]
    },
    {
      "cell_type": "code",
      "source": [
        "siniestros.mode().head(1)[['FALLECIDO', 'COVID', 'SOSPECHA COVID', 'TUMOR MALIGNO', 'DIABETES', 'NEUMONIA', 'PARO O INFARTO', 'INSUFICIENCIA RESPIRATORIA', 'INSUFICIENCIA RENAL', 'CIRROSIS', 'CHOQUE MEDICO', 'ACIDOSIS', 'ASFIXIA', 'OTRAS CAUSAS']]"
      ],
      "metadata": {
        "colab": {
          "base_uri": "https://localhost:8080/",
          "height": 142
        },
        "id": "T3uCrWmo7bFM",
        "outputId": "f7842fe8-4495-4f76-89ee-8ae29aeffee5"
      },
      "execution_count": 18,
      "outputs": [
        {
          "output_type": "execute_result",
          "data": {
            "text/plain": [
              "  FALLECIDO  COVID  SOSPECHA COVID  TUMOR MALIGNO  DIABETES  NEUMONIA  \\\n",
              "0         S    0.0             0.0            0.0       0.0       0.0   \n",
              "\n",
              "   PARO O INFARTO  INSUFICIENCIA RESPIRATORIA  INSUFICIENCIA RENAL  CIRROSIS  \\\n",
              "0             0.0                         0.0                  0.0       0.0   \n",
              "\n",
              "   CHOQUE MEDICO  ACIDOSIS  ASFIXIA  OTRAS CAUSAS  \n",
              "0            0.0       0.0      0.0           0.0  "
            ],
            "text/html": [
              "\n",
              "  <div id=\"df-40972801-4588-40ec-ac9f-bc95bae30832\">\n",
              "    <div class=\"colab-df-container\">\n",
              "      <div>\n",
              "<style scoped>\n",
              "    .dataframe tbody tr th:only-of-type {\n",
              "        vertical-align: middle;\n",
              "    }\n",
              "\n",
              "    .dataframe tbody tr th {\n",
              "        vertical-align: top;\n",
              "    }\n",
              "\n",
              "    .dataframe thead th {\n",
              "        text-align: right;\n",
              "    }\n",
              "</style>\n",
              "<table border=\"1\" class=\"dataframe\">\n",
              "  <thead>\n",
              "    <tr style=\"text-align: right;\">\n",
              "      <th></th>\n",
              "      <th>FALLECIDO</th>\n",
              "      <th>COVID</th>\n",
              "      <th>SOSPECHA COVID</th>\n",
              "      <th>TUMOR MALIGNO</th>\n",
              "      <th>DIABETES</th>\n",
              "      <th>NEUMONIA</th>\n",
              "      <th>PARO O INFARTO</th>\n",
              "      <th>INSUFICIENCIA RESPIRATORIA</th>\n",
              "      <th>INSUFICIENCIA RENAL</th>\n",
              "      <th>CIRROSIS</th>\n",
              "      <th>CHOQUE MEDICO</th>\n",
              "      <th>ACIDOSIS</th>\n",
              "      <th>ASFIXIA</th>\n",
              "      <th>OTRAS CAUSAS</th>\n",
              "    </tr>\n",
              "  </thead>\n",
              "  <tbody>\n",
              "    <tr>\n",
              "      <th>0</th>\n",
              "      <td>S</td>\n",
              "      <td>0.0</td>\n",
              "      <td>0.0</td>\n",
              "      <td>0.0</td>\n",
              "      <td>0.0</td>\n",
              "      <td>0.0</td>\n",
              "      <td>0.0</td>\n",
              "      <td>0.0</td>\n",
              "      <td>0.0</td>\n",
              "      <td>0.0</td>\n",
              "      <td>0.0</td>\n",
              "      <td>0.0</td>\n",
              "      <td>0.0</td>\n",
              "      <td>0.0</td>\n",
              "    </tr>\n",
              "  </tbody>\n",
              "</table>\n",
              "</div>\n",
              "      <button class=\"colab-df-convert\" onclick=\"convertToInteractive('df-40972801-4588-40ec-ac9f-bc95bae30832')\"\n",
              "              title=\"Convert this dataframe to an interactive table.\"\n",
              "              style=\"display:none;\">\n",
              "        \n",
              "  <svg xmlns=\"http://www.w3.org/2000/svg\" height=\"24px\"viewBox=\"0 0 24 24\"\n",
              "       width=\"24px\">\n",
              "    <path d=\"M0 0h24v24H0V0z\" fill=\"none\"/>\n",
              "    <path d=\"M18.56 5.44l.94 2.06.94-2.06 2.06-.94-2.06-.94-.94-2.06-.94 2.06-2.06.94zm-11 1L8.5 8.5l.94-2.06 2.06-.94-2.06-.94L8.5 2.5l-.94 2.06-2.06.94zm10 10l.94 2.06.94-2.06 2.06-.94-2.06-.94-.94-2.06-.94 2.06-2.06.94z\"/><path d=\"M17.41 7.96l-1.37-1.37c-.4-.4-.92-.59-1.43-.59-.52 0-1.04.2-1.43.59L10.3 9.45l-7.72 7.72c-.78.78-.78 2.05 0 2.83L4 21.41c.39.39.9.59 1.41.59.51 0 1.02-.2 1.41-.59l7.78-7.78 2.81-2.81c.8-.78.8-2.07 0-2.86zM5.41 20L4 18.59l7.72-7.72 1.47 1.35L5.41 20z\"/>\n",
              "  </svg>\n",
              "      </button>\n",
              "      \n",
              "  <style>\n",
              "    .colab-df-container {\n",
              "      display:flex;\n",
              "      flex-wrap:wrap;\n",
              "      gap: 12px;\n",
              "    }\n",
              "\n",
              "    .colab-df-convert {\n",
              "      background-color: #E8F0FE;\n",
              "      border: none;\n",
              "      border-radius: 50%;\n",
              "      cursor: pointer;\n",
              "      display: none;\n",
              "      fill: #1967D2;\n",
              "      height: 32px;\n",
              "      padding: 0 0 0 0;\n",
              "      width: 32px;\n",
              "    }\n",
              "\n",
              "    .colab-df-convert:hover {\n",
              "      background-color: #E2EBFA;\n",
              "      box-shadow: 0px 1px 2px rgba(60, 64, 67, 0.3), 0px 1px 3px 1px rgba(60, 64, 67, 0.15);\n",
              "      fill: #174EA6;\n",
              "    }\n",
              "\n",
              "    [theme=dark] .colab-df-convert {\n",
              "      background-color: #3B4455;\n",
              "      fill: #D2E3FC;\n",
              "    }\n",
              "\n",
              "    [theme=dark] .colab-df-convert:hover {\n",
              "      background-color: #434B5C;\n",
              "      box-shadow: 0px 1px 3px 1px rgba(0, 0, 0, 0.15);\n",
              "      filter: drop-shadow(0px 1px 2px rgba(0, 0, 0, 0.3));\n",
              "      fill: #FFFFFF;\n",
              "    }\n",
              "  </style>\n",
              "\n",
              "      <script>\n",
              "        const buttonEl =\n",
              "          document.querySelector('#df-40972801-4588-40ec-ac9f-bc95bae30832 button.colab-df-convert');\n",
              "        buttonEl.style.display =\n",
              "          google.colab.kernel.accessAllowed ? 'block' : 'none';\n",
              "\n",
              "        async function convertToInteractive(key) {\n",
              "          const element = document.querySelector('#df-40972801-4588-40ec-ac9f-bc95bae30832');\n",
              "          const dataTable =\n",
              "            await google.colab.kernel.invokeFunction('convertToInteractive',\n",
              "                                                     [key], {});\n",
              "          if (!dataTable) return;\n",
              "\n",
              "          const docLinkHtml = 'Like what you see? Visit the ' +\n",
              "            '<a target=\"_blank\" href=https://colab.research.google.com/notebooks/data_table.ipynb>data table notebook</a>'\n",
              "            + ' to learn more about interactive tables.';\n",
              "          element.innerHTML = '';\n",
              "          dataTable['output_type'] = 'display_data';\n",
              "          await google.colab.output.renderOutput(dataTable, element);\n",
              "          const docLink = document.createElement('div');\n",
              "          docLink.innerHTML = docLinkHtml;\n",
              "          element.appendChild(docLink);\n",
              "        }\n",
              "      </script>\n",
              "    </div>\n",
              "  </div>\n",
              "  "
            ]
          },
          "metadata": {},
          "execution_count": 18
        }
      ]
    },
    {
      "cell_type": "code",
      "source": [
        "#Revisamos tabla cruzada\n",
        "crosstab = pd.crosstab(siniestros['EDAD'], [siniestros['SEXO'], siniestros['COVID']], margins=True, margins_name='total')\n",
        "crosstab"
      ],
      "metadata": {
        "colab": {
          "base_uri": "https://localhost:8080/",
          "height": 486
        },
        "id": "97PPML48I4vS",
        "outputId": "fcef1d65-4742-49a5-9ed6-288922db2357"
      },
      "execution_count": 19,
      "outputs": [
        {
          "output_type": "execute_result",
          "data": {
            "text/plain": [
              "SEXO      0          1        total\n",
              "COVID     0    1     0     1       \n",
              "EDAD                               \n",
              "19        1    0     3     0      4\n",
              "20        0    0     3     0      3\n",
              "21        1    0     8     0      9\n",
              "22        3    0    24     0     27\n",
              "23        5    0    21     0     26\n",
              "...     ...  ...   ...   ...    ...\n",
              "93        1    0     1     0      2\n",
              "94        0    0     1     0      1\n",
              "97        1    0     0     0      1\n",
              "98        2    0     0     0      2\n",
              "total  2180  417  6318  1536  10451\n",
              "\n",
              "[76 rows x 5 columns]"
            ],
            "text/html": [
              "\n",
              "  <div id=\"df-2b84f9ab-8851-4b10-be61-1378368333c5\">\n",
              "    <div class=\"colab-df-container\">\n",
              "      <div>\n",
              "<style scoped>\n",
              "    .dataframe tbody tr th:only-of-type {\n",
              "        vertical-align: middle;\n",
              "    }\n",
              "\n",
              "    .dataframe tbody tr th {\n",
              "        vertical-align: top;\n",
              "    }\n",
              "\n",
              "    .dataframe thead tr th {\n",
              "        text-align: left;\n",
              "    }\n",
              "\n",
              "    .dataframe thead tr:last-of-type th {\n",
              "        text-align: right;\n",
              "    }\n",
              "</style>\n",
              "<table border=\"1\" class=\"dataframe\">\n",
              "  <thead>\n",
              "    <tr>\n",
              "      <th>SEXO</th>\n",
              "      <th colspan=\"2\" halign=\"left\">0</th>\n",
              "      <th colspan=\"2\" halign=\"left\">1</th>\n",
              "      <th>total</th>\n",
              "    </tr>\n",
              "    <tr>\n",
              "      <th>COVID</th>\n",
              "      <th>0</th>\n",
              "      <th>1</th>\n",
              "      <th>0</th>\n",
              "      <th>1</th>\n",
              "      <th></th>\n",
              "    </tr>\n",
              "    <tr>\n",
              "      <th>EDAD</th>\n",
              "      <th></th>\n",
              "      <th></th>\n",
              "      <th></th>\n",
              "      <th></th>\n",
              "      <th></th>\n",
              "    </tr>\n",
              "  </thead>\n",
              "  <tbody>\n",
              "    <tr>\n",
              "      <th>19</th>\n",
              "      <td>1</td>\n",
              "      <td>0</td>\n",
              "      <td>3</td>\n",
              "      <td>0</td>\n",
              "      <td>4</td>\n",
              "    </tr>\n",
              "    <tr>\n",
              "      <th>20</th>\n",
              "      <td>0</td>\n",
              "      <td>0</td>\n",
              "      <td>3</td>\n",
              "      <td>0</td>\n",
              "      <td>3</td>\n",
              "    </tr>\n",
              "    <tr>\n",
              "      <th>21</th>\n",
              "      <td>1</td>\n",
              "      <td>0</td>\n",
              "      <td>8</td>\n",
              "      <td>0</td>\n",
              "      <td>9</td>\n",
              "    </tr>\n",
              "    <tr>\n",
              "      <th>22</th>\n",
              "      <td>3</td>\n",
              "      <td>0</td>\n",
              "      <td>24</td>\n",
              "      <td>0</td>\n",
              "      <td>27</td>\n",
              "    </tr>\n",
              "    <tr>\n",
              "      <th>23</th>\n",
              "      <td>5</td>\n",
              "      <td>0</td>\n",
              "      <td>21</td>\n",
              "      <td>0</td>\n",
              "      <td>26</td>\n",
              "    </tr>\n",
              "    <tr>\n",
              "      <th>...</th>\n",
              "      <td>...</td>\n",
              "      <td>...</td>\n",
              "      <td>...</td>\n",
              "      <td>...</td>\n",
              "      <td>...</td>\n",
              "    </tr>\n",
              "    <tr>\n",
              "      <th>93</th>\n",
              "      <td>1</td>\n",
              "      <td>0</td>\n",
              "      <td>1</td>\n",
              "      <td>0</td>\n",
              "      <td>2</td>\n",
              "    </tr>\n",
              "    <tr>\n",
              "      <th>94</th>\n",
              "      <td>0</td>\n",
              "      <td>0</td>\n",
              "      <td>1</td>\n",
              "      <td>0</td>\n",
              "      <td>1</td>\n",
              "    </tr>\n",
              "    <tr>\n",
              "      <th>97</th>\n",
              "      <td>1</td>\n",
              "      <td>0</td>\n",
              "      <td>0</td>\n",
              "      <td>0</td>\n",
              "      <td>1</td>\n",
              "    </tr>\n",
              "    <tr>\n",
              "      <th>98</th>\n",
              "      <td>2</td>\n",
              "      <td>0</td>\n",
              "      <td>0</td>\n",
              "      <td>0</td>\n",
              "      <td>2</td>\n",
              "    </tr>\n",
              "    <tr>\n",
              "      <th>total</th>\n",
              "      <td>2180</td>\n",
              "      <td>417</td>\n",
              "      <td>6318</td>\n",
              "      <td>1536</td>\n",
              "      <td>10451</td>\n",
              "    </tr>\n",
              "  </tbody>\n",
              "</table>\n",
              "<p>76 rows × 5 columns</p>\n",
              "</div>\n",
              "      <button class=\"colab-df-convert\" onclick=\"convertToInteractive('df-2b84f9ab-8851-4b10-be61-1378368333c5')\"\n",
              "              title=\"Convert this dataframe to an interactive table.\"\n",
              "              style=\"display:none;\">\n",
              "        \n",
              "  <svg xmlns=\"http://www.w3.org/2000/svg\" height=\"24px\"viewBox=\"0 0 24 24\"\n",
              "       width=\"24px\">\n",
              "    <path d=\"M0 0h24v24H0V0z\" fill=\"none\"/>\n",
              "    <path d=\"M18.56 5.44l.94 2.06.94-2.06 2.06-.94-2.06-.94-.94-2.06-.94 2.06-2.06.94zm-11 1L8.5 8.5l.94-2.06 2.06-.94-2.06-.94L8.5 2.5l-.94 2.06-2.06.94zm10 10l.94 2.06.94-2.06 2.06-.94-2.06-.94-.94-2.06-.94 2.06-2.06.94z\"/><path d=\"M17.41 7.96l-1.37-1.37c-.4-.4-.92-.59-1.43-.59-.52 0-1.04.2-1.43.59L10.3 9.45l-7.72 7.72c-.78.78-.78 2.05 0 2.83L4 21.41c.39.39.9.59 1.41.59.51 0 1.02-.2 1.41-.59l7.78-7.78 2.81-2.81c.8-.78.8-2.07 0-2.86zM5.41 20L4 18.59l7.72-7.72 1.47 1.35L5.41 20z\"/>\n",
              "  </svg>\n",
              "      </button>\n",
              "      \n",
              "  <style>\n",
              "    .colab-df-container {\n",
              "      display:flex;\n",
              "      flex-wrap:wrap;\n",
              "      gap: 12px;\n",
              "    }\n",
              "\n",
              "    .colab-df-convert {\n",
              "      background-color: #E8F0FE;\n",
              "      border: none;\n",
              "      border-radius: 50%;\n",
              "      cursor: pointer;\n",
              "      display: none;\n",
              "      fill: #1967D2;\n",
              "      height: 32px;\n",
              "      padding: 0 0 0 0;\n",
              "      width: 32px;\n",
              "    }\n",
              "\n",
              "    .colab-df-convert:hover {\n",
              "      background-color: #E2EBFA;\n",
              "      box-shadow: 0px 1px 2px rgba(60, 64, 67, 0.3), 0px 1px 3px 1px rgba(60, 64, 67, 0.15);\n",
              "      fill: #174EA6;\n",
              "    }\n",
              "\n",
              "    [theme=dark] .colab-df-convert {\n",
              "      background-color: #3B4455;\n",
              "      fill: #D2E3FC;\n",
              "    }\n",
              "\n",
              "    [theme=dark] .colab-df-convert:hover {\n",
              "      background-color: #434B5C;\n",
              "      box-shadow: 0px 1px 3px 1px rgba(0, 0, 0, 0.15);\n",
              "      filter: drop-shadow(0px 1px 2px rgba(0, 0, 0, 0.3));\n",
              "      fill: #FFFFFF;\n",
              "    }\n",
              "  </style>\n",
              "\n",
              "      <script>\n",
              "        const buttonEl =\n",
              "          document.querySelector('#df-2b84f9ab-8851-4b10-be61-1378368333c5 button.colab-df-convert');\n",
              "        buttonEl.style.display =\n",
              "          google.colab.kernel.accessAllowed ? 'block' : 'none';\n",
              "\n",
              "        async function convertToInteractive(key) {\n",
              "          const element = document.querySelector('#df-2b84f9ab-8851-4b10-be61-1378368333c5');\n",
              "          const dataTable =\n",
              "            await google.colab.kernel.invokeFunction('convertToInteractive',\n",
              "                                                     [key], {});\n",
              "          if (!dataTable) return;\n",
              "\n",
              "          const docLinkHtml = 'Like what you see? Visit the ' +\n",
              "            '<a target=\"_blank\" href=https://colab.research.google.com/notebooks/data_table.ipynb>data table notebook</a>'\n",
              "            + ' to learn more about interactive tables.';\n",
              "          element.innerHTML = '';\n",
              "          dataTable['output_type'] = 'display_data';\n",
              "          await google.colab.output.renderOutput(dataTable, element);\n",
              "          const docLink = document.createElement('div');\n",
              "          docLink.innerHTML = docLinkHtml;\n",
              "          element.appendChild(docLink);\n",
              "        }\n",
              "      </script>\n",
              "    </div>\n",
              "  </div>\n",
              "  "
            ]
          },
          "metadata": {},
          "execution_count": 19
        }
      ]
    },
    {
      "cell_type": "code",
      "source": [
        "#Revisamos tabla cruzada\n",
        "crosstab = pd.crosstab(siniestros['SEXO'], [siniestros['COVID'], siniestros['SOSPECHA COVID']], margins=True, margins_name='total')\n",
        "crosstab"
      ],
      "metadata": {
        "colab": {
          "base_uri": "https://localhost:8080/",
          "height": 206
        },
        "id": "dd7h-W1f9lSy",
        "outputId": "9901b440-958a-4762-bda4-1a0b3c74c1b1"
      },
      "execution_count": 20,
      "outputs": [
        {
          "output_type": "execute_result",
          "data": {
            "text/plain": [
              "COVID              0          1  total\n",
              "SOSPECHA COVID     0    1     0       \n",
              "SEXO                                  \n",
              "0               2060  120   417   2597\n",
              "1               5863  455  1536   7854\n",
              "total           7923  575  1953  10451"
            ],
            "text/html": [
              "\n",
              "  <div id=\"df-9407932f-a2dd-41d7-91fe-6d03cf80cd8a\">\n",
              "    <div class=\"colab-df-container\">\n",
              "      <div>\n",
              "<style scoped>\n",
              "    .dataframe tbody tr th:only-of-type {\n",
              "        vertical-align: middle;\n",
              "    }\n",
              "\n",
              "    .dataframe tbody tr th {\n",
              "        vertical-align: top;\n",
              "    }\n",
              "\n",
              "    .dataframe thead tr th {\n",
              "        text-align: left;\n",
              "    }\n",
              "\n",
              "    .dataframe thead tr:last-of-type th {\n",
              "        text-align: right;\n",
              "    }\n",
              "</style>\n",
              "<table border=\"1\" class=\"dataframe\">\n",
              "  <thead>\n",
              "    <tr>\n",
              "      <th>COVID</th>\n",
              "      <th colspan=\"2\" halign=\"left\">0</th>\n",
              "      <th>1</th>\n",
              "      <th>total</th>\n",
              "    </tr>\n",
              "    <tr>\n",
              "      <th>SOSPECHA COVID</th>\n",
              "      <th>0</th>\n",
              "      <th>1</th>\n",
              "      <th>0</th>\n",
              "      <th></th>\n",
              "    </tr>\n",
              "    <tr>\n",
              "      <th>SEXO</th>\n",
              "      <th></th>\n",
              "      <th></th>\n",
              "      <th></th>\n",
              "      <th></th>\n",
              "    </tr>\n",
              "  </thead>\n",
              "  <tbody>\n",
              "    <tr>\n",
              "      <th>0</th>\n",
              "      <td>2060</td>\n",
              "      <td>120</td>\n",
              "      <td>417</td>\n",
              "      <td>2597</td>\n",
              "    </tr>\n",
              "    <tr>\n",
              "      <th>1</th>\n",
              "      <td>5863</td>\n",
              "      <td>455</td>\n",
              "      <td>1536</td>\n",
              "      <td>7854</td>\n",
              "    </tr>\n",
              "    <tr>\n",
              "      <th>total</th>\n",
              "      <td>7923</td>\n",
              "      <td>575</td>\n",
              "      <td>1953</td>\n",
              "      <td>10451</td>\n",
              "    </tr>\n",
              "  </tbody>\n",
              "</table>\n",
              "</div>\n",
              "      <button class=\"colab-df-convert\" onclick=\"convertToInteractive('df-9407932f-a2dd-41d7-91fe-6d03cf80cd8a')\"\n",
              "              title=\"Convert this dataframe to an interactive table.\"\n",
              "              style=\"display:none;\">\n",
              "        \n",
              "  <svg xmlns=\"http://www.w3.org/2000/svg\" height=\"24px\"viewBox=\"0 0 24 24\"\n",
              "       width=\"24px\">\n",
              "    <path d=\"M0 0h24v24H0V0z\" fill=\"none\"/>\n",
              "    <path d=\"M18.56 5.44l.94 2.06.94-2.06 2.06-.94-2.06-.94-.94-2.06-.94 2.06-2.06.94zm-11 1L8.5 8.5l.94-2.06 2.06-.94-2.06-.94L8.5 2.5l-.94 2.06-2.06.94zm10 10l.94 2.06.94-2.06 2.06-.94-2.06-.94-.94-2.06-.94 2.06-2.06.94z\"/><path d=\"M17.41 7.96l-1.37-1.37c-.4-.4-.92-.59-1.43-.59-.52 0-1.04.2-1.43.59L10.3 9.45l-7.72 7.72c-.78.78-.78 2.05 0 2.83L4 21.41c.39.39.9.59 1.41.59.51 0 1.02-.2 1.41-.59l7.78-7.78 2.81-2.81c.8-.78.8-2.07 0-2.86zM5.41 20L4 18.59l7.72-7.72 1.47 1.35L5.41 20z\"/>\n",
              "  </svg>\n",
              "      </button>\n",
              "      \n",
              "  <style>\n",
              "    .colab-df-container {\n",
              "      display:flex;\n",
              "      flex-wrap:wrap;\n",
              "      gap: 12px;\n",
              "    }\n",
              "\n",
              "    .colab-df-convert {\n",
              "      background-color: #E8F0FE;\n",
              "      border: none;\n",
              "      border-radius: 50%;\n",
              "      cursor: pointer;\n",
              "      display: none;\n",
              "      fill: #1967D2;\n",
              "      height: 32px;\n",
              "      padding: 0 0 0 0;\n",
              "      width: 32px;\n",
              "    }\n",
              "\n",
              "    .colab-df-convert:hover {\n",
              "      background-color: #E2EBFA;\n",
              "      box-shadow: 0px 1px 2px rgba(60, 64, 67, 0.3), 0px 1px 3px 1px rgba(60, 64, 67, 0.15);\n",
              "      fill: #174EA6;\n",
              "    }\n",
              "\n",
              "    [theme=dark] .colab-df-convert {\n",
              "      background-color: #3B4455;\n",
              "      fill: #D2E3FC;\n",
              "    }\n",
              "\n",
              "    [theme=dark] .colab-df-convert:hover {\n",
              "      background-color: #434B5C;\n",
              "      box-shadow: 0px 1px 3px 1px rgba(0, 0, 0, 0.15);\n",
              "      filter: drop-shadow(0px 1px 2px rgba(0, 0, 0, 0.3));\n",
              "      fill: #FFFFFF;\n",
              "    }\n",
              "  </style>\n",
              "\n",
              "      <script>\n",
              "        const buttonEl =\n",
              "          document.querySelector('#df-9407932f-a2dd-41d7-91fe-6d03cf80cd8a button.colab-df-convert');\n",
              "        buttonEl.style.display =\n",
              "          google.colab.kernel.accessAllowed ? 'block' : 'none';\n",
              "\n",
              "        async function convertToInteractive(key) {\n",
              "          const element = document.querySelector('#df-9407932f-a2dd-41d7-91fe-6d03cf80cd8a');\n",
              "          const dataTable =\n",
              "            await google.colab.kernel.invokeFunction('convertToInteractive',\n",
              "                                                     [key], {});\n",
              "          if (!dataTable) return;\n",
              "\n",
              "          const docLinkHtml = 'Like what you see? Visit the ' +\n",
              "            '<a target=\"_blank\" href=https://colab.research.google.com/notebooks/data_table.ipynb>data table notebook</a>'\n",
              "            + ' to learn more about interactive tables.';\n",
              "          element.innerHTML = '';\n",
              "          dataTable['output_type'] = 'display_data';\n",
              "          await google.colab.output.renderOutput(dataTable, element);\n",
              "          const docLink = document.createElement('div');\n",
              "          docLink.innerHTML = docLinkHtml;\n",
              "          element.appendChild(docLink);\n",
              "        }\n",
              "      </script>\n",
              "    </div>\n",
              "  </div>\n",
              "  "
            ]
          },
          "metadata": {},
          "execution_count": 20
        }
      ]
    },
    {
      "cell_type": "code",
      "source": [
        "#Revisamos tabla cruzada\n",
        "crosstab = pd.crosstab(siniestros['SEXO'], [siniestros['FALLECIDO']], margins=True, margins_name='total')\n",
        "crosstab"
      ],
      "metadata": {
        "colab": {
          "base_uri": "https://localhost:8080/",
          "height": 175
        },
        "id": "We2HIWdCDfXw",
        "outputId": "f72634fa-48a9-44c2-ffaa-57941452bd2b"
      },
      "execution_count": 21,
      "outputs": [
        {
          "output_type": "execute_result",
          "data": {
            "text/plain": [
              "FALLECIDO     N     S  total\n",
              "SEXO                        \n",
              "0           808  1789   2597\n",
              "1          1990  5864   7854\n",
              "total      2798  7653  10451"
            ],
            "text/html": [
              "\n",
              "  <div id=\"df-da4e862c-4dd3-41cb-ad6b-a6755c3f2f07\">\n",
              "    <div class=\"colab-df-container\">\n",
              "      <div>\n",
              "<style scoped>\n",
              "    .dataframe tbody tr th:only-of-type {\n",
              "        vertical-align: middle;\n",
              "    }\n",
              "\n",
              "    .dataframe tbody tr th {\n",
              "        vertical-align: top;\n",
              "    }\n",
              "\n",
              "    .dataframe thead th {\n",
              "        text-align: right;\n",
              "    }\n",
              "</style>\n",
              "<table border=\"1\" class=\"dataframe\">\n",
              "  <thead>\n",
              "    <tr style=\"text-align: right;\">\n",
              "      <th>FALLECIDO</th>\n",
              "      <th>N</th>\n",
              "      <th>S</th>\n",
              "      <th>total</th>\n",
              "    </tr>\n",
              "    <tr>\n",
              "      <th>SEXO</th>\n",
              "      <th></th>\n",
              "      <th></th>\n",
              "      <th></th>\n",
              "    </tr>\n",
              "  </thead>\n",
              "  <tbody>\n",
              "    <tr>\n",
              "      <th>0</th>\n",
              "      <td>808</td>\n",
              "      <td>1789</td>\n",
              "      <td>2597</td>\n",
              "    </tr>\n",
              "    <tr>\n",
              "      <th>1</th>\n",
              "      <td>1990</td>\n",
              "      <td>5864</td>\n",
              "      <td>7854</td>\n",
              "    </tr>\n",
              "    <tr>\n",
              "      <th>total</th>\n",
              "      <td>2798</td>\n",
              "      <td>7653</td>\n",
              "      <td>10451</td>\n",
              "    </tr>\n",
              "  </tbody>\n",
              "</table>\n",
              "</div>\n",
              "      <button class=\"colab-df-convert\" onclick=\"convertToInteractive('df-da4e862c-4dd3-41cb-ad6b-a6755c3f2f07')\"\n",
              "              title=\"Convert this dataframe to an interactive table.\"\n",
              "              style=\"display:none;\">\n",
              "        \n",
              "  <svg xmlns=\"http://www.w3.org/2000/svg\" height=\"24px\"viewBox=\"0 0 24 24\"\n",
              "       width=\"24px\">\n",
              "    <path d=\"M0 0h24v24H0V0z\" fill=\"none\"/>\n",
              "    <path d=\"M18.56 5.44l.94 2.06.94-2.06 2.06-.94-2.06-.94-.94-2.06-.94 2.06-2.06.94zm-11 1L8.5 8.5l.94-2.06 2.06-.94-2.06-.94L8.5 2.5l-.94 2.06-2.06.94zm10 10l.94 2.06.94-2.06 2.06-.94-2.06-.94-.94-2.06-.94 2.06-2.06.94z\"/><path d=\"M17.41 7.96l-1.37-1.37c-.4-.4-.92-.59-1.43-.59-.52 0-1.04.2-1.43.59L10.3 9.45l-7.72 7.72c-.78.78-.78 2.05 0 2.83L4 21.41c.39.39.9.59 1.41.59.51 0 1.02-.2 1.41-.59l7.78-7.78 2.81-2.81c.8-.78.8-2.07 0-2.86zM5.41 20L4 18.59l7.72-7.72 1.47 1.35L5.41 20z\"/>\n",
              "  </svg>\n",
              "      </button>\n",
              "      \n",
              "  <style>\n",
              "    .colab-df-container {\n",
              "      display:flex;\n",
              "      flex-wrap:wrap;\n",
              "      gap: 12px;\n",
              "    }\n",
              "\n",
              "    .colab-df-convert {\n",
              "      background-color: #E8F0FE;\n",
              "      border: none;\n",
              "      border-radius: 50%;\n",
              "      cursor: pointer;\n",
              "      display: none;\n",
              "      fill: #1967D2;\n",
              "      height: 32px;\n",
              "      padding: 0 0 0 0;\n",
              "      width: 32px;\n",
              "    }\n",
              "\n",
              "    .colab-df-convert:hover {\n",
              "      background-color: #E2EBFA;\n",
              "      box-shadow: 0px 1px 2px rgba(60, 64, 67, 0.3), 0px 1px 3px 1px rgba(60, 64, 67, 0.15);\n",
              "      fill: #174EA6;\n",
              "    }\n",
              "\n",
              "    [theme=dark] .colab-df-convert {\n",
              "      background-color: #3B4455;\n",
              "      fill: #D2E3FC;\n",
              "    }\n",
              "\n",
              "    [theme=dark] .colab-df-convert:hover {\n",
              "      background-color: #434B5C;\n",
              "      box-shadow: 0px 1px 3px 1px rgba(0, 0, 0, 0.15);\n",
              "      filter: drop-shadow(0px 1px 2px rgba(0, 0, 0, 0.3));\n",
              "      fill: #FFFFFF;\n",
              "    }\n",
              "  </style>\n",
              "\n",
              "      <script>\n",
              "        const buttonEl =\n",
              "          document.querySelector('#df-da4e862c-4dd3-41cb-ad6b-a6755c3f2f07 button.colab-df-convert');\n",
              "        buttonEl.style.display =\n",
              "          google.colab.kernel.accessAllowed ? 'block' : 'none';\n",
              "\n",
              "        async function convertToInteractive(key) {\n",
              "          const element = document.querySelector('#df-da4e862c-4dd3-41cb-ad6b-a6755c3f2f07');\n",
              "          const dataTable =\n",
              "            await google.colab.kernel.invokeFunction('convertToInteractive',\n",
              "                                                     [key], {});\n",
              "          if (!dataTable) return;\n",
              "\n",
              "          const docLinkHtml = 'Like what you see? Visit the ' +\n",
              "            '<a target=\"_blank\" href=https://colab.research.google.com/notebooks/data_table.ipynb>data table notebook</a>'\n",
              "            + ' to learn more about interactive tables.';\n",
              "          element.innerHTML = '';\n",
              "          dataTable['output_type'] = 'display_data';\n",
              "          await google.colab.output.renderOutput(dataTable, element);\n",
              "          const docLink = document.createElement('div');\n",
              "          docLink.innerHTML = docLinkHtml;\n",
              "          element.appendChild(docLink);\n",
              "        }\n",
              "      </script>\n",
              "    </div>\n",
              "  </div>\n",
              "  "
            ]
          },
          "metadata": {},
          "execution_count": 21
        }
      ]
    },
    {
      "cell_type": "code",
      "source": [
        "#Revisamos tabla cruzada\n",
        "crosstab = pd.crosstab(siniestros['SEXO'], [siniestros['FALLECIDO'], siniestros['COVID']], margins=True, margins_name='total')\n",
        "crosstab"
      ],
      "metadata": {
        "colab": {
          "base_uri": "https://localhost:8080/",
          "height": 206
        },
        "id": "hxBSStIw8x72",
        "outputId": "8d2c1226-841f-4ebf-db0f-6a58e1addda6"
      },
      "execution_count": 41,
      "outputs": [
        {
          "output_type": "execute_result",
          "data": {
            "text/plain": [
              "FALLECIDO     N          S        total\n",
              "COVID         0    1     0     1       \n",
              "SEXO                                   \n",
              "0           782   26  1398   391   2597\n",
              "1          1912   78  4406  1458   7854\n",
              "total      2694  104  5804  1849  10451"
            ],
            "text/html": [
              "\n",
              "  <div id=\"df-d32c2084-ac45-45ad-818e-48cc888c8756\">\n",
              "    <div class=\"colab-df-container\">\n",
              "      <div>\n",
              "<style scoped>\n",
              "    .dataframe tbody tr th:only-of-type {\n",
              "        vertical-align: middle;\n",
              "    }\n",
              "\n",
              "    .dataframe tbody tr th {\n",
              "        vertical-align: top;\n",
              "    }\n",
              "\n",
              "    .dataframe thead tr th {\n",
              "        text-align: left;\n",
              "    }\n",
              "\n",
              "    .dataframe thead tr:last-of-type th {\n",
              "        text-align: right;\n",
              "    }\n",
              "</style>\n",
              "<table border=\"1\" class=\"dataframe\">\n",
              "  <thead>\n",
              "    <tr>\n",
              "      <th>FALLECIDO</th>\n",
              "      <th colspan=\"2\" halign=\"left\">N</th>\n",
              "      <th colspan=\"2\" halign=\"left\">S</th>\n",
              "      <th>total</th>\n",
              "    </tr>\n",
              "    <tr>\n",
              "      <th>COVID</th>\n",
              "      <th>0</th>\n",
              "      <th>1</th>\n",
              "      <th>0</th>\n",
              "      <th>1</th>\n",
              "      <th></th>\n",
              "    </tr>\n",
              "    <tr>\n",
              "      <th>SEXO</th>\n",
              "      <th></th>\n",
              "      <th></th>\n",
              "      <th></th>\n",
              "      <th></th>\n",
              "      <th></th>\n",
              "    </tr>\n",
              "  </thead>\n",
              "  <tbody>\n",
              "    <tr>\n",
              "      <th>0</th>\n",
              "      <td>782</td>\n",
              "      <td>26</td>\n",
              "      <td>1398</td>\n",
              "      <td>391</td>\n",
              "      <td>2597</td>\n",
              "    </tr>\n",
              "    <tr>\n",
              "      <th>1</th>\n",
              "      <td>1912</td>\n",
              "      <td>78</td>\n",
              "      <td>4406</td>\n",
              "      <td>1458</td>\n",
              "      <td>7854</td>\n",
              "    </tr>\n",
              "    <tr>\n",
              "      <th>total</th>\n",
              "      <td>2694</td>\n",
              "      <td>104</td>\n",
              "      <td>5804</td>\n",
              "      <td>1849</td>\n",
              "      <td>10451</td>\n",
              "    </tr>\n",
              "  </tbody>\n",
              "</table>\n",
              "</div>\n",
              "      <button class=\"colab-df-convert\" onclick=\"convertToInteractive('df-d32c2084-ac45-45ad-818e-48cc888c8756')\"\n",
              "              title=\"Convert this dataframe to an interactive table.\"\n",
              "              style=\"display:none;\">\n",
              "        \n",
              "  <svg xmlns=\"http://www.w3.org/2000/svg\" height=\"24px\"viewBox=\"0 0 24 24\"\n",
              "       width=\"24px\">\n",
              "    <path d=\"M0 0h24v24H0V0z\" fill=\"none\"/>\n",
              "    <path d=\"M18.56 5.44l.94 2.06.94-2.06 2.06-.94-2.06-.94-.94-2.06-.94 2.06-2.06.94zm-11 1L8.5 8.5l.94-2.06 2.06-.94-2.06-.94L8.5 2.5l-.94 2.06-2.06.94zm10 10l.94 2.06.94-2.06 2.06-.94-2.06-.94-.94-2.06-.94 2.06-2.06.94z\"/><path d=\"M17.41 7.96l-1.37-1.37c-.4-.4-.92-.59-1.43-.59-.52 0-1.04.2-1.43.59L10.3 9.45l-7.72 7.72c-.78.78-.78 2.05 0 2.83L4 21.41c.39.39.9.59 1.41.59.51 0 1.02-.2 1.41-.59l7.78-7.78 2.81-2.81c.8-.78.8-2.07 0-2.86zM5.41 20L4 18.59l7.72-7.72 1.47 1.35L5.41 20z\"/>\n",
              "  </svg>\n",
              "      </button>\n",
              "      \n",
              "  <style>\n",
              "    .colab-df-container {\n",
              "      display:flex;\n",
              "      flex-wrap:wrap;\n",
              "      gap: 12px;\n",
              "    }\n",
              "\n",
              "    .colab-df-convert {\n",
              "      background-color: #E8F0FE;\n",
              "      border: none;\n",
              "      border-radius: 50%;\n",
              "      cursor: pointer;\n",
              "      display: none;\n",
              "      fill: #1967D2;\n",
              "      height: 32px;\n",
              "      padding: 0 0 0 0;\n",
              "      width: 32px;\n",
              "    }\n",
              "\n",
              "    .colab-df-convert:hover {\n",
              "      background-color: #E2EBFA;\n",
              "      box-shadow: 0px 1px 2px rgba(60, 64, 67, 0.3), 0px 1px 3px 1px rgba(60, 64, 67, 0.15);\n",
              "      fill: #174EA6;\n",
              "    }\n",
              "\n",
              "    [theme=dark] .colab-df-convert {\n",
              "      background-color: #3B4455;\n",
              "      fill: #D2E3FC;\n",
              "    }\n",
              "\n",
              "    [theme=dark] .colab-df-convert:hover {\n",
              "      background-color: #434B5C;\n",
              "      box-shadow: 0px 1px 3px 1px rgba(0, 0, 0, 0.15);\n",
              "      filter: drop-shadow(0px 1px 2px rgba(0, 0, 0, 0.3));\n",
              "      fill: #FFFFFF;\n",
              "    }\n",
              "  </style>\n",
              "\n",
              "      <script>\n",
              "        const buttonEl =\n",
              "          document.querySelector('#df-d32c2084-ac45-45ad-818e-48cc888c8756 button.colab-df-convert');\n",
              "        buttonEl.style.display =\n",
              "          google.colab.kernel.accessAllowed ? 'block' : 'none';\n",
              "\n",
              "        async function convertToInteractive(key) {\n",
              "          const element = document.querySelector('#df-d32c2084-ac45-45ad-818e-48cc888c8756');\n",
              "          const dataTable =\n",
              "            await google.colab.kernel.invokeFunction('convertToInteractive',\n",
              "                                                     [key], {});\n",
              "          if (!dataTable) return;\n",
              "\n",
              "          const docLinkHtml = 'Like what you see? Visit the ' +\n",
              "            '<a target=\"_blank\" href=https://colab.research.google.com/notebooks/data_table.ipynb>data table notebook</a>'\n",
              "            + ' to learn more about interactive tables.';\n",
              "          element.innerHTML = '';\n",
              "          dataTable['output_type'] = 'display_data';\n",
              "          await google.colab.output.renderOutput(dataTable, element);\n",
              "          const docLink = document.createElement('div');\n",
              "          docLink.innerHTML = docLinkHtml;\n",
              "          element.appendChild(docLink);\n",
              "        }\n",
              "      </script>\n",
              "    </div>\n",
              "  </div>\n",
              "  "
            ]
          },
          "metadata": {},
          "execution_count": 41
        }
      ]
    },
    {
      "cell_type": "code",
      "source": [
        "#Buscaremos realizar la matriz de confusión\n",
        "X = siniestros.drop(columns=['IDSIN', 'NUMSIN', 'CODSIN', 'OCURRIDO', 'DIAGNOSTICO', 'POLIZA', 'SEXO', 'FALLECIDO'])\n",
        "y = siniestros['SEXO']"
      ],
      "metadata": {
        "id": "ajbiMbcPrsR9"
      },
      "execution_count": 36,
      "outputs": []
    },
    {
      "cell_type": "code",
      "source": [
        "X_train, X_test, y_train, y_test = train_test_split(X, y, test_size=0.4)\n",
        "logreg = LogisticRegression(max_iter=6000)\n",
        "logreg.fit(X_train, y_train)\n",
        "y_pred = logreg.predict(X_test)\n",
        "cnf_matrix = metrics.confusion_matrix(y_test, y_pred)\n",
        "cnf_matrix"
      ],
      "metadata": {
        "id": "f_bXG8A4sWFS",
        "colab": {
          "base_uri": "https://localhost:8080/"
        },
        "outputId": "ad9ec21e-081c-4afb-ad32-92eaae498f7a"
      },
      "execution_count": 37,
      "outputs": [
        {
          "output_type": "execute_result",
          "data": {
            "text/plain": [
              "array([[  24, 1001],\n",
              "       [   8, 3148]])"
            ]
          },
          "metadata": {},
          "execution_count": 37
        }
      ]
    },
    {
      "cell_type": "code",
      "source": [
        "(TN, FP, FN, TP) = cnf_matrix.ravel()\n",
        "print(\"True positives: \"+str(TP))\n",
        "print(\"True negatives: \"+str(TN))\n",
        "print(\"False positives: \"+str(FP))\n",
        "print(\"False negative: \"+str(FN))"
      ],
      "metadata": {
        "colab": {
          "base_uri": "https://localhost:8080/"
        },
        "id": "A4v2VHmhxtKq",
        "outputId": "3092e0b3-9efc-4775-d771-7657ee1bc4ae"
      },
      "execution_count": 38,
      "outputs": [
        {
          "output_type": "stream",
          "name": "stdout",
          "text": [
            "True positives: 3148\n",
            "True negatives: 24\n",
            "False positives: 1001\n",
            "False negative: 8\n"
          ]
        }
      ]
    },
    {
      "cell_type": "code",
      "source": [
        "sns.heatmap(pd.DataFrame(cnf_matrix), annot=True, cmap=\"Blues\", fmt=\"g\", cbar=False, annot_kws={'size': 20});"
      ],
      "metadata": {
        "colab": {
          "base_uri": "https://localhost:8080/",
          "height": 430
        },
        "id": "2utgRE_qt6Tp",
        "outputId": "8ee09782-e266-4483-fae9-a51f1db345e0"
      },
      "execution_count": 39,
      "outputs": [
        {
          "output_type": "display_data",
          "data": {
            "text/plain": [
              "<Figure size 640x480 with 1 Axes>"
            ],
            "image/png": "[encoded data removed]"
          },
          "metadata": {}
        }
      ]
    },
    {
      "cell_type": "code",
      "source": [
        "X = siniestros.drop(columns=['IDSIN', 'NUMSIN', 'CODSIN', 'OCURRIDO', 'DIAGNOSTICO', 'POLIZA', 'SEXO', 'FALLECIDO'])\n",
        "y = siniestros['FALLECIDO']\n",
        "X_train, X_test, y_train, y_test = train_test_split(X, y, test_size=0.4)\n",
        "logreg = LogisticRegression(max_iter=6000)\n",
        "logreg.fit(X_train, y_train)\n",
        "y_pred = logreg.predict(X_test)\n",
        "cnf_matrix = metrics.confusion_matrix(y_test, y_pred)\n",
        "cnf_matrix"
      ],
      "metadata": {
        "colab": {
          "base_uri": "https://localhost:8080/"
        },
        "id": "iSd6xGYP7_EK",
        "outputId": "e54f3ec3-91c5-4e9a-99eb-f8044064b648"
      },
      "execution_count": 42,
      "outputs": [
        {
          "output_type": "execute_result",
          "data": {
            "text/plain": [
              "array([[ 765,  324],\n",
              "       [ 347, 2745]])"
            ]
          },
          "metadata": {},
          "execution_count": 42
        }
      ]
    },
    {
      "cell_type": "code",
      "source": [
        "(TN, FP, FN, TP) = cnf_matrix.ravel()\n",
        "print(\"True positives: \"+str(TP))\n",
        "print(\"True negatives: \"+str(TN))\n",
        "print(\"False positives: \"+str(FP))\n",
        "print(\"False negative: \"+str(FN))"
      ],
      "metadata": {
        "colab": {
          "base_uri": "https://localhost:8080/"
        },
        "id": "Lr49h5Z28OqI",
        "outputId": "e8388f37-217b-437c-9964-5bf34e388b8f"
      },
      "execution_count": 43,
      "outputs": [
        {
          "output_type": "stream",
          "name": "stdout",
          "text": [
            "True positives: 2745\n",
            "True negatives: 765\n",
            "False positives: 324\n",
            "False negative: 347\n"
          ]
        }
      ]
    },
    {
      "cell_type": "code",
      "source": [
        "sns.heatmap(pd.DataFrame(cnf_matrix), annot=True, cmap=\"Blues\", fmt=\"g\", cbar=False, annot_kws={'size': 20});"
      ],
      "metadata": {
        "colab": {
          "base_uri": "https://localhost:8080/",
          "height": 430
        },
        "id": "LLsW-5do8KHN",
        "outputId": "411f073b-2bf7-4894-e543-381a0b877074"
      },
      "execution_count": 44,
      "outputs": [
        {
          "output_type": "display_data",
          "data": {
            "text/plain": [
              "<Figure size 640x480 with 1 Axes>"
            ],
            "image/png": "[encoded data removed]"
          },
          "metadata": {}
        }
      ]
    },
    {
      "cell_type": "code",
      "source": [
        "#Obtenemos las metricas de desempeño de la matriz\n",
        "#Creamos las funciones necesarias primero\n",
        "def calcularPrecision(TP, TN, FP, FN):\n",
        "    precision = TP / (TP + FP) #(TP + TN) / (TP + TN + FP + FN)\n",
        "    precision = precision * 100\n",
        "    return precision\n",
        "\n",
        "def calcularSensibilidad(TP, TN, FP, FN):\n",
        "    sensibilidad = TP / (TP + FN)\n",
        "    sensibilidad = sensibilidad * 100\n",
        "    return sensibilidad\n",
        "\n",
        "def calcularEspecificidad(TP, TN, FP, FN):\n",
        "    especificidad = TN / (TN + FP)\n",
        "    especificidad = especificidad * 100\n",
        "    return especificidad\n",
        "\n",
        "def calcularExactitud(TP,TN,FP,FN):\n",
        "    # Aquí va tu código\n",
        "    exactitud = (TP + TN) / (TP + TN + FP + FN)\n",
        "    exactitud = exactitud * 100\n",
        "    return exactitud\n",
        "\n"
      ],
      "metadata": {
        "id": "lYlcLtQzuDeG"
      },
      "execution_count": 34,
      "outputs": []
    },
    {
      "cell_type": "code",
      "source": [
        "pre = calcularPrecision(TP, TN, FP, FN)\n",
        "sen = calcularSensibilidad(TP, TN, FP, FN)\n",
        "spec = calcularEspecificidad(TP, TN, FP, FN)\n",
        "exac = calcularExactitud(TP,TN,FP,FN)\n",
        "print(\"Precision:\"+str(pre)+\"%\")\n",
        "print(\"Sensibilidad:\"+str(sen)+\"%\")\n",
        "print(\"Especificidad:\"+str(spec)+\"%\")\n",
        "print(\"Exactitud:\"+str(exac)+\"%\")"
      ],
      "metadata": {
        "colab": {
          "base_uri": "https://localhost:8080/"
        },
        "id": "uWNlP21Qx2Ge",
        "outputId": "c8786725-d5a5-48c9-a40e-e3a6f7d28995"
      },
      "execution_count": 45,
      "outputs": [
        {
          "output_type": "stream",
          "name": "stdout",
          "text": [
            "Precision:89.44281524926686%\n",
            "Sensibilidad:88.77749029754204%\n",
            "Especificidad:70.24793388429752%\n",
            "Exactitud:83.95120784501316%\n"
          ]
        }
      ]
    },
    {
      "cell_type": "code",
      "source": [
        "#Probaremos predicción de regresión lineal\n",
        "lin_model = LinearRegression()\n",
        "lin_model.fit(X_train, y_train)"
      ],
      "metadata": {
        "id": "7IaJ2zL8OG_i"
      },
      "execution_count": null,
      "outputs": []
    },
    {
      "cell_type": "code",
      "source": [
        "#Veamos como entrena\n",
        "y_train_predict = lin_model.predict(X_train)\n",
        "MSE = mean_squared_error(y_train,y_train_predict)\n",
        "print(\"Entrenamiento: MSE =\"+str(MSE))\n",
        "\n",
        "y_test_predict = lin_model.predict(X_test)\n",
        "MSE = (mean_squared_error(y_test, y_test_predict))\n",
        "print(\"Pruebas: MSE =\"+str(MSE))"
      ],
      "metadata": {
        "id": "-7-liZ9AOs-m"
      },
      "execution_count": null,
      "outputs": []
    },
    {
      "cell_type": "code",
      "source": [
        "#Veamos que tanto predice\n",
        "df_predicciones = pd.DataFrame({'valor_real':y_test, 'prediccion':y_test_predict})\n",
        "df_predicciones = df_predicciones.reset_index(drop = True)\n",
        "df_predicciones.head(10)"
      ],
      "metadata": {
        "id": "e0VAxrq4O4Eh"
      },
      "execution_count": null,
      "outputs": []
    },
    {
      "cell_type": "code",
      "source": [
        "#Probamos una red neuronal\n",
        "xr_train, xr_test, yr_train, yr_test = train_test_split(X,y,test_size=0.4)\n",
        "\n",
        "\n",
        "redNeuronal = MLPClassifier(hidden_layer_sizes=(10, 6, 2),\n",
        "                            max_iter=20000,\n",
        "                            activation ='logistic',\n",
        "                            tol= 1e-7)\n",
        "\n",
        "redNeuronal.fit(xr_train, yr_train)\n",
        "yr_pred = redNeuronal.predict(xr_test)\n",
        "print(\"Entrenamiento completado!\")"
      ],
      "metadata": {
        "id": "X-wAJ1TbPDv-"
      },
      "execution_count": null,
      "outputs": []
    },
    {
      "cell_type": "code",
      "source": [
        "resultado = metrics.confusion_matrix(yr_test, yr_pred)\n",
        "print(resultado)\n",
        "(TN, FP, FN, TP) = resultado.ravel()\n",
        "print(\"True positives: \"+str(TP))\n",
        "print(\"True negatives: \"+str(TN))\n",
        "print(\"False positives: \"+str(FP))\n",
        "print(\"False negative: \"+str(FN))\n",
        "\n",
        "pre = calcularPrecision(TP, TN, FP, FN)\n",
        "sen = calcularSensibilidad(TP, TN, FP, FN)\n",
        "spec = calcularEspecificidad(TP, TN, FP, FN)\n",
        "exac = calcularExactitud(TP,TN,FP,FN)\n",
        "\n",
        "print(\"Precision:\"+str(pre)+\"%\")\n",
        "print(\"Sensibilidad:\"+str(sen)+\"%\")\n",
        "print(\"Especificidad:\"+str(spec)+\"%\")\n",
        "print(\"Exactitud:\"+str(exac)+\"%\")\n"
      ],
      "metadata": {
        "id": "fc6056V4RqVx"
      },
      "execution_count": null,
      "outputs": []
    },
    {
      "cell_type": "code",
      "source": [
        "#Comparamos clasificadores\n",
        "#creamos función para evaluar\n",
        "def evaluar(y_test, y_pred):\n",
        "    resultado = metrics.confusion_matrix(y_test, y_pred)\n",
        "    print(resultado)\n",
        "    (TN, FP, FN, TP) = resultado.ravel()\n",
        "    print(\"True positives: \"+str(TP))\n",
        "    print(\"True negatives: \"+str(TN))\n",
        "    print(\"False positives: \"+str(FP))\n",
        "    print(\"False negative: \"+str(FN))\n",
        "\n",
        "    acc = calcularPrecision(TP, TN, FP, FN)\n",
        "    sen = calcularSensibilidad(TP, TN, FP, FN)\n",
        "    spec = calcularEspecificidad(TP, TN, FP, FN)\n",
        "    exac = calcularExactitud(TP,TN,FP,FN)\n",
        "\n",
        "    print(\"Precision:\"+str(acc)+\"%\")\n",
        "    print(\"Sensibilidad:\"+str(sen)+\"%\")\n",
        "    print(\"Especificidad:\"+str(spec)+\"%\")\n",
        "    print(\"Exactitud:\"+str(exac)+\"%\")\n",
        "\n",
        "    sns.heatmap(pd.DataFrame(resultado), annot=True, cmap=\"Blues\", fmt=\"g\", cbar=False, annot_kws={'size': 20});"
      ],
      "metadata": {
        "id": "yIrSQsZqqDIH"
      },
      "execution_count": null,
      "outputs": []
    },
    {
      "cell_type": "code",
      "source": [
        "#Naïve Bayes:\n",
        "NaiveBayes = GaussianNB()\n",
        "NaiveBayes.fit(X_train, y_train) \n",
        "y_pred_nb = NaiveBayes.predict(X_test) \n",
        "evaluar(y_test, y_pred_nb)"
      ],
      "metadata": {
        "id": "IWFWMWIxqVCO"
      },
      "execution_count": null,
      "outputs": []
    },
    {
      "cell_type": "code",
      "source": [
        "#Suport vector machine\n",
        "SupportVectorMachine = SVC()\n",
        "SupportVectorMachine.fit(X_train, y_train) \n",
        "y_pred_svm = SupportVectorMachine.predict(X_test) \n",
        "evaluar(y_test, y_pred_svm)"
      ],
      "metadata": {
        "id": "IVykye9yqpmq"
      },
      "execution_count": null,
      "outputs": []
    },
    {
      "cell_type": "code",
      "source": [
        "#Red Neuronal Artificial\n",
        "NeuralNetwork = MLPClassifier(hidden_layer_sizes=(10,4),\n",
        "                            max_iter=20000,\n",
        "                            activation ='logistic',\n",
        "                            tol= 1e-8)\n",
        "\n",
        "NeuralNetwork.fit(X_train, y_train)\n",
        "y_pred_nn = NeuralNetwork.predict(X_test)\n",
        "evaluar(y_test, y_pred_nn)"
      ],
      "metadata": {
        "id": "0HdFMgGVq3gA"
      },
      "execution_count": null,
      "outputs": []
    },
    {
      "cell_type": "code",
      "source": [
        "#Random Forest\n",
        "RandomForest = RandomForestClassifier(n_estimators = 800)\n",
        "RandomForest.fit(X_train, y_train)\n",
        "y_pred_rfc = RandomForest.predict(X_test)\n",
        "evaluar(y_test, y_pred_rfc)"
      ],
      "metadata": {
        "id": "RyOYzn2_rDsB"
      },
      "execution_count": null,
      "outputs": []
    }
  ]
}