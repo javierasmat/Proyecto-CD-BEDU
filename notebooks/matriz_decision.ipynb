{
  "nbformat": 4,
  "nbformat_minor": 0,
  "metadata": {
    "colab": {
      "provenance": []
    },
    "kernelspec": {
      "name": "python3",
      "display_name": "Python 3"
    },
    "language_info": {
      "name": "python"
    }
  },
  "cells": [
    {
      "cell_type": "code",
      "execution_count": null,
      "metadata": {
        "id": "Ou_Kf_BSjiMt"
      },
      "outputs": [],
      "source": [
        "import numpy as np\n",
        "import seaborn as sns\n",
        "import pandas as pd\n",
        "import warnings\n",
        "warnings.simplefilter(action='ignore', category=FutureWarning)\n",
        "from sklearn.linear_model import LogisticRegression\n",
        "from sklearn.model_selection import train_test_split\n",
        "from sklearn import metrics\n"
      ]
    },
    {
      "cell_type": "code",
      "source": [
        "#Cargamos el csv con los datos de los asegurados\n",
        "siniestros = pd.read_csv('/content/drive/MyDrive/Colab Notebooks/datos_siniestro.csv', sep='|', index_col=0)\n",
        "#, names=['id', 'idsin', 'numsin', 'codsin', 'ocurrido', 'diagnostico', 'poliza', 'sexo', 'edad', 'fallecido', 'covid', 'sospecha_covid', 'tumor_maligno', 'diabetes', 'neumonia', 'paro_infarto', 'insuf_respiratoria', 'insuf_renal', 'cirrosis', 'choque medico', 'acidosis', 'asfixia', 'otras_causas'])\n",
        "siniestros.head()"
      ],
      "metadata": {
        "colab": {
          "base_uri": "https://localhost:8080/",
          "height": 539
        },
        "id": "6h01xXoJj5j1",
        "outputId": "0058fbbe-1f3e-482b-9c9c-e6f4085d6097"
      },
      "execution_count": null,
      "outputs": [
        {
          "output_type": "execute_result",
          "data": {
            "text/plain": [
              "          IDSIN    NUMSIN CODSIN  OCURRIDO  \\\n",
              "ID                                           \n",
              "5067980  846213  19100456   VI00  17/04/19   \n",
              "4758080  844600  19100445   VI00  23/04/19   \n",
              "4202335  860740  19100522   VI00  27/04/19   \n",
              "4508048  868085  19100549   VI00  18/04/19   \n",
              "3782760  873200  19100573   VI00  03/05/19   \n",
              "\n",
              "                                               DIAGNOSTICO            POLIZA  \\\n",
              "ID                                                                             \n",
              "5067980                        INFARTO AGUDO DEL MIOCARDIO  VI00-1503848-380   \n",
              "4758080              OTRAS DIABETES MELLITUS ESPECIFICADAS  VI00-3531957-200   \n",
              "4202335  ENFERMEDAD POR VIRUS DE LA INMUNODEFICIENCIA H...  VI00-3458173-200   \n",
              "4508048                        INSUFICIENCIA RENAL CRONICA  VI00-1550805-200   \n",
              "3782760                       CIRROSIS HEPATICA ALCOHOLICA  VI00-3399851-200   \n",
              "\n",
              "         SEXO  EDAD FALLECIDO  COVID  ...  DIABETES  NEUMONIA  PARO O INFARTO  \\\n",
              "ID                                    ...                                       \n",
              "5067980     1    56         S      0  ...         0         0               1   \n",
              "4758080     0    69         S      0  ...         0         0               0   \n",
              "4202335     1    32         S      0  ...         0         0               0   \n",
              "4508048     1    62         S      0  ...         0         0               0   \n",
              "3782760     1    53         S      0  ...         0         0               0   \n",
              "\n",
              "         INSUFICIENCIA RESPIRATORIA  INSUFICIENCIA RENAL  CIRROSIS  \\\n",
              "ID                                                                   \n",
              "5067980                           0                    0         0   \n",
              "4758080                           0                    0         0   \n",
              "4202335                           0                    0         0   \n",
              "4508048                           0                    1         0   \n",
              "3782760                           0                    0         1   \n",
              "\n",
              "         CHOQUE MEDICO  ACIDOSIS  ASFIXIA  OTRAS CAUSAS  \n",
              "ID                                                       \n",
              "5067980              0         0        0             0  \n",
              "4758080              0         0        0             1  \n",
              "4202335              0         0        0             1  \n",
              "4508048              0         0        0             0  \n",
              "3782760              0         0        0             0  \n",
              "\n",
              "[5 rows x 22 columns]"
            ],
            "text/html": [
              "\n",
              "  <div id=\"df-c6ddc7f9-95f6-4ad3-9b92-e13eb6095ef6\">\n",
              "    <div class=\"colab-df-container\">\n",
              "      <div>\n",
              "<style scoped>\n",
              "    .dataframe tbody tr th:only-of-type {\n",
              "        vertical-align: middle;\n",
              "    }\n",
              "\n",
              "    .dataframe tbody tr th {\n",
              "        vertical-align: top;\n",
              "    }\n",
              "\n",
              "    .dataframe thead th {\n",
              "        text-align: right;\n",
              "    }\n",
              "</style>\n",
              "<table border=\"1\" class=\"dataframe\">\n",
              "  <thead>\n",
              "    <tr style=\"text-align: right;\">\n",
              "      <th></th>\n",
              "      <th>IDSIN</th>\n",
              "      <th>NUMSIN</th>\n",
              "      <th>CODSIN</th>\n",
              "      <th>OCURRIDO</th>\n",
              "      <th>DIAGNOSTICO</th>\n",
              "      <th>POLIZA</th>\n",
              "      <th>SEXO</th>\n",
              "      <th>EDAD</th>\n",
              "      <th>FALLECIDO</th>\n",
              "      <th>COVID</th>\n",
              "      <th>...</th>\n",
              "      <th>DIABETES</th>\n",
              "      <th>NEUMONIA</th>\n",
              "      <th>PARO O INFARTO</th>\n",
              "      <th>INSUFICIENCIA RESPIRATORIA</th>\n",
              "      <th>INSUFICIENCIA RENAL</th>\n",
              "      <th>CIRROSIS</th>\n",
              "      <th>CHOQUE MEDICO</th>\n",
              "      <th>ACIDOSIS</th>\n",
              "      <th>ASFIXIA</th>\n",
              "      <th>OTRAS CAUSAS</th>\n",
              "    </tr>\n",
              "    <tr>\n",
              "      <th>ID</th>\n",
              "      <th></th>\n",
              "      <th></th>\n",
              "      <th></th>\n",
              "      <th></th>\n",
              "      <th></th>\n",
              "      <th></th>\n",
              "      <th></th>\n",
              "      <th></th>\n",
              "      <th></th>\n",
              "      <th></th>\n",
              "      <th></th>\n",
              "      <th></th>\n",
              "      <th></th>\n",
              "      <th></th>\n",
              "      <th></th>\n",
              "      <th></th>\n",
              "      <th></th>\n",
              "      <th></th>\n",
              "      <th></th>\n",
              "      <th></th>\n",
              "      <th></th>\n",
              "    </tr>\n",
              "  </thead>\n",
              "  <tbody>\n",
              "    <tr>\n",
              "      <th>5067980</th>\n",
              "      <td>846213</td>\n",
              "      <td>19100456</td>\n",
              "      <td>VI00</td>\n",
              "      <td>17/04/19</td>\n",
              "      <td>INFARTO AGUDO DEL MIOCARDIO</td>\n",
              "      <td>VI00-1503848-380</td>\n",
              "      <td>1</td>\n",
              "      <td>56</td>\n",
              "      <td>S</td>\n",
              "      <td>0</td>\n",
              "      <td>...</td>\n",
              "      <td>0</td>\n",
              "      <td>0</td>\n",
              "      <td>1</td>\n",
              "      <td>0</td>\n",
              "      <td>0</td>\n",
              "      <td>0</td>\n",
              "      <td>0</td>\n",
              "      <td>0</td>\n",
              "      <td>0</td>\n",
              "      <td>0</td>\n",
              "    </tr>\n",
              "    <tr>\n",
              "      <th>4758080</th>\n",
              "      <td>844600</td>\n",
              "      <td>19100445</td>\n",
              "      <td>VI00</td>\n",
              "      <td>23/04/19</td>\n",
              "      <td>OTRAS DIABETES MELLITUS ESPECIFICADAS</td>\n",
              "      <td>VI00-3531957-200</td>\n",
              "      <td>0</td>\n",
              "      <td>69</td>\n",
              "      <td>S</td>\n",
              "      <td>0</td>\n",
              "      <td>...</td>\n",
              "      <td>0</td>\n",
              "      <td>0</td>\n",
              "      <td>0</td>\n",
              "      <td>0</td>\n",
              "      <td>0</td>\n",
              "      <td>0</td>\n",
              "      <td>0</td>\n",
              "      <td>0</td>\n",
              "      <td>0</td>\n",
              "      <td>1</td>\n",
              "    </tr>\n",
              "    <tr>\n",
              "      <th>4202335</th>\n",
              "      <td>860740</td>\n",
              "      <td>19100522</td>\n",
              "      <td>VI00</td>\n",
              "      <td>27/04/19</td>\n",
              "      <td>ENFERMEDAD POR VIRUS DE LA INMUNODEFICIENCIA H...</td>\n",
              "      <td>VI00-3458173-200</td>\n",
              "      <td>1</td>\n",
              "      <td>32</td>\n",
              "      <td>S</td>\n",
              "      <td>0</td>\n",
              "      <td>...</td>\n",
              "      <td>0</td>\n",
              "      <td>0</td>\n",
              "      <td>0</td>\n",
              "      <td>0</td>\n",
              "      <td>0</td>\n",
              "      <td>0</td>\n",
              "      <td>0</td>\n",
              "      <td>0</td>\n",
              "      <td>0</td>\n",
              "      <td>1</td>\n",
              "    </tr>\n",
              "    <tr>\n",
              "      <th>4508048</th>\n",
              "      <td>868085</td>\n",
              "      <td>19100549</td>\n",
              "      <td>VI00</td>\n",
              "      <td>18/04/19</td>\n",
              "      <td>INSUFICIENCIA RENAL CRONICA</td>\n",
              "      <td>VI00-1550805-200</td>\n",
              "      <td>1</td>\n",
              "      <td>62</td>\n",
              "      <td>S</td>\n",
              "      <td>0</td>\n",
              "      <td>...</td>\n",
              "      <td>0</td>\n",
              "      <td>0</td>\n",
              "      <td>0</td>\n",
              "      <td>0</td>\n",
              "      <td>1</td>\n",
              "      <td>0</td>\n",
              "      <td>0</td>\n",
              "      <td>0</td>\n",
              "      <td>0</td>\n",
              "      <td>0</td>\n",
              "    </tr>\n",
              "    <tr>\n",
              "      <th>3782760</th>\n",
              "      <td>873200</td>\n",
              "      <td>19100573</td>\n",
              "      <td>VI00</td>\n",
              "      <td>03/05/19</td>\n",
              "      <td>CIRROSIS HEPATICA ALCOHOLICA</td>\n",
              "      <td>VI00-3399851-200</td>\n",
              "      <td>1</td>\n",
              "      <td>53</td>\n",
              "      <td>S</td>\n",
              "      <td>0</td>\n",
              "      <td>...</td>\n",
              "      <td>0</td>\n",
              "      <td>0</td>\n",
              "      <td>0</td>\n",
              "      <td>0</td>\n",
              "      <td>0</td>\n",
              "      <td>1</td>\n",
              "      <td>0</td>\n",
              "      <td>0</td>\n",
              "      <td>0</td>\n",
              "      <td>0</td>\n",
              "    </tr>\n",
              "  </tbody>\n",
              "</table>\n",
              "<p>5 rows × 22 columns</p>\n",
              "</div>\n",
              "      <button class=\"colab-df-convert\" onclick=\"convertToInteractive('df-c6ddc7f9-95f6-4ad3-9b92-e13eb6095ef6')\"\n",
              "              title=\"Convert this dataframe to an interactive table.\"\n",
              "              style=\"display:none;\">\n",
              "        \n",
              "  <svg xmlns=\"http://www.w3.org/2000/svg\" height=\"24px\"viewBox=\"0 0 24 24\"\n",
              "       width=\"24px\">\n",
              "    <path d=\"M0 0h24v24H0V0z\" fill=\"none\"/>\n",
              "    <path d=\"M18.56 5.44l.94 2.06.94-2.06 2.06-.94-2.06-.94-.94-2.06-.94 2.06-2.06.94zm-11 1L8.5 8.5l.94-2.06 2.06-.94-2.06-.94L8.5 2.5l-.94 2.06-2.06.94zm10 10l.94 2.06.94-2.06 2.06-.94-2.06-.94-.94-2.06-.94 2.06-2.06.94z\"/><path d=\"M17.41 7.96l-1.37-1.37c-.4-.4-.92-.59-1.43-.59-.52 0-1.04.2-1.43.59L10.3 9.45l-7.72 7.72c-.78.78-.78 2.05 0 2.83L4 21.41c.39.39.9.59 1.41.59.51 0 1.02-.2 1.41-.59l7.78-7.78 2.81-2.81c.8-.78.8-2.07 0-2.86zM5.41 20L4 18.59l7.72-7.72 1.47 1.35L5.41 20z\"/>\n",
              "  </svg>\n",
              "      </button>\n",
              "      \n",
              "  <style>\n",
              "    .colab-df-container {\n",
              "      display:flex;\n",
              "      flex-wrap:wrap;\n",
              "      gap: 12px;\n",
              "    }\n",
              "\n",
              "    .colab-df-convert {\n",
              "      background-color: #E8F0FE;\n",
              "      border: none;\n",
              "      border-radius: 50%;\n",
              "      cursor: pointer;\n",
              "      display: none;\n",
              "      fill: #1967D2;\n",
              "      height: 32px;\n",
              "      padding: 0 0 0 0;\n",
              "      width: 32px;\n",
              "    }\n",
              "\n",
              "    .colab-df-convert:hover {\n",
              "      background-color: #E2EBFA;\n",
              "      box-shadow: 0px 1px 2px rgba(60, 64, 67, 0.3), 0px 1px 3px 1px rgba(60, 64, 67, 0.15);\n",
              "      fill: #174EA6;\n",
              "    }\n",
              "\n",
              "    [theme=dark] .colab-df-convert {\n",
              "      background-color: #3B4455;\n",
              "      fill: #D2E3FC;\n",
              "    }\n",
              "\n",
              "    [theme=dark] .colab-df-convert:hover {\n",
              "      background-color: #434B5C;\n",
              "      box-shadow: 0px 1px 3px 1px rgba(0, 0, 0, 0.15);\n",
              "      filter: drop-shadow(0px 1px 2px rgba(0, 0, 0, 0.3));\n",
              "      fill: #FFFFFF;\n",
              "    }\n",
              "  </style>\n",
              "\n",
              "      <script>\n",
              "        const buttonEl =\n",
              "          document.querySelector('#df-c6ddc7f9-95f6-4ad3-9b92-e13eb6095ef6 button.colab-df-convert');\n",
              "        buttonEl.style.display =\n",
              "          google.colab.kernel.accessAllowed ? 'block' : 'none';\n",
              "\n",
              "        async function convertToInteractive(key) {\n",
              "          const element = document.querySelector('#df-c6ddc7f9-95f6-4ad3-9b92-e13eb6095ef6');\n",
              "          const dataTable =\n",
              "            await google.colab.kernel.invokeFunction('convertToInteractive',\n",
              "                                                     [key], {});\n",
              "          if (!dataTable) return;\n",
              "\n",
              "          const docLinkHtml = 'Like what you see? Visit the ' +\n",
              "            '<a target=\"_blank\" href=https://colab.research.google.com/notebooks/data_table.ipynb>data table notebook</a>'\n",
              "            + ' to learn more about interactive tables.';\n",
              "          element.innerHTML = '';\n",
              "          dataTable['output_type'] = 'display_data';\n",
              "          await google.colab.output.renderOutput(dataTable, element);\n",
              "          const docLink = document.createElement('div');\n",
              "          docLink.innerHTML = docLinkHtml;\n",
              "          element.appendChild(docLink);\n",
              "        }\n",
              "      </script>\n",
              "    </div>\n",
              "  </div>\n",
              "  "
            ]
          },
          "metadata": {},
          "execution_count": 2
        }
      ]
    },
    {
      "cell_type": "code",
      "source": [
        "siniestros.shape"
      ],
      "metadata": {
        "colab": {
          "base_uri": "https://localhost:8080/"
        },
        "id": "wUzPTaw6pnI7",
        "outputId": "32d2b35f-1544-4804-f694-a4bbbc13a442"
      },
      "execution_count": null,
      "outputs": [
        {
          "output_type": "execute_result",
          "data": {
            "text/plain": [
              "(10451, 22)"
            ]
          },
          "metadata": {},
          "execution_count": 3
        }
      ]
    },
    {
      "cell_type": "code",
      "source": [
        "#Buscaremos realizar la matriz de confusión\n",
        "X = siniestros.drop(columns=['IDSIN', 'NUMSIN', 'CODSIN', 'OCURRIDO', 'DIAGNOSTICO', 'POLIZA', 'SEXO', 'FALLECIDO'])\n",
        "y = siniestros['SEXO']"
      ],
      "metadata": {
        "id": "ajbiMbcPrsR9"
      },
      "execution_count": null,
      "outputs": []
    },
    {
      "cell_type": "code",
      "source": [
        "X_train, X_test, y_train, y_test = train_test_split(X, y, test_size=0.4)\n",
        "logreg = LogisticRegression(max_iter=6000)\n",
        "logreg.fit(X_train, y_train)\n",
        "y_pred = logreg.predict(X_test)\n",
        "cnf_matrix = metrics.confusion_matrix(y_test, y_pred)\n",
        "cnf_matrix"
      ],
      "metadata": {
        "id": "f_bXG8A4sWFS",
        "colab": {
          "base_uri": "https://localhost:8080/"
        },
        "outputId": "ad9ec21e-081c-4afb-ad32-92eaae498f7a"
      },
      "execution_count": null,
      "outputs": [
        {
          "output_type": "execute_result",
          "data": {
            "text/plain": [
              "array([[  24, 1001],\n",
              "       [   8, 3148]])"
            ]
          },
          "metadata": {},
          "execution_count": 37
        }
      ]
    },
    {
      "cell_type": "code",
      "source": [
        "(TN, FP, FN, TP) = cnf_matrix.ravel()\n",
        "print(\"True positives: \"+str(TP))\n",
        "print(\"True negatives: \"+str(TN))\n",
        "print(\"False positives: \"+str(FP))\n",
        "print(\"False negative: \"+str(FN))"
      ],
      "metadata": {
        "colab": {
          "base_uri": "https://localhost:8080/"
        },
        "id": "A4v2VHmhxtKq",
        "outputId": "3092e0b3-9efc-4775-d771-7657ee1bc4ae"
      },
      "execution_count": null,
      "outputs": [
        {
          "output_type": "stream",
          "name": "stdout",
          "text": [
            "True positives: 3148\n",
            "True negatives: 24\n",
            "False positives: 1001\n",
            "False negative: 8\n"
          ]
        }
      ]
    },
    {
      "cell_type": "code",
      "source": [
        "sns.heatmap(pd.DataFrame(cnf_matrix), annot=True, cmap=\"Blues\", fmt=\"g\", cbar=False, annot_kws={'size': 20});"
      ],
      "metadata": {
        "colab": {
          "base_uri": "https://localhost:8080/",
          "height": 430
        },
        "id": "2utgRE_qt6Tp",
        "outputId": "8ee09782-e266-4483-fae9-a51f1db345e0"
      },
      "execution_count": null,
      "outputs": [
        {
          "output_type": "display_data",
          "data": {
            "text/plain": [
              "<Figure size 640x480 with 1 Axes>"
            ],
            "image/png": "[encoded data removed]"
          },
          "metadata": {}
        }
      ]
    },
    {
      "cell_type": "code",
      "source": [
        "X = siniestros.drop(columns=['IDSIN', 'NUMSIN', 'CODSIN', 'OCURRIDO', 'DIAGNOSTICO', 'POLIZA', 'SEXO', 'FALLECIDO'])\n",
        "y = siniestros['FALLECIDO']\n",
        "X_train, X_test, y_train, y_test = train_test_split(X, y, test_size=0.4)\n",
        "logreg = LogisticRegression(max_iter=6000)\n",
        "logreg.fit(X_train, y_train)\n",
        "y_pred = logreg.predict(X_test)\n",
        "cnf_matrix = metrics.confusion_matrix(y_test, y_pred)\n",
        "cnf_matrix"
      ],
      "metadata": {
        "colab": {
          "base_uri": "https://localhost:8080/"
        },
        "id": "iSd6xGYP7_EK",
        "outputId": "e54f3ec3-91c5-4e9a-99eb-f8044064b648"
      },
      "execution_count": null,
      "outputs": [
        {
          "output_type": "execute_result",
          "data": {
            "text/plain": [
              "array([[ 765,  324],\n",
              "       [ 347, 2745]])"
            ]
          },
          "metadata": {},
          "execution_count": 42
        }
      ]
    },
    {
      "cell_type": "code",
      "source": [
        "(TN, FP, FN, TP) = cnf_matrix.ravel()\n",
        "print(\"True positives: \"+str(TP))\n",
        "print(\"True negatives: \"+str(TN))\n",
        "print(\"False positives: \"+str(FP))\n",
        "print(\"False negative: \"+str(FN))"
      ],
      "metadata": {
        "colab": {
          "base_uri": "https://localhost:8080/"
        },
        "id": "Lr49h5Z28OqI",
        "outputId": "e8388f37-217b-437c-9964-5bf34e388b8f"
      },
      "execution_count": null,
      "outputs": [
        {
          "output_type": "stream",
          "name": "stdout",
          "text": [
            "True positives: 2745\n",
            "True negatives: 765\n",
            "False positives: 324\n",
            "False negative: 347\n"
          ]
        }
      ]
    },
    {
      "cell_type": "code",
      "source": [
        "sns.heatmap(pd.DataFrame(cnf_matrix), annot=True, cmap=\"Blues\", fmt=\"g\", cbar=False, annot_kws={'size': 20});"
      ],
      "metadata": {
        "colab": {
          "base_uri": "https://localhost:8080/",
          "height": 430
        },
        "id": "LLsW-5do8KHN",
        "outputId": "411f073b-2bf7-4894-e543-381a0b877074"
      },
      "execution_count": null,
      "outputs": [
        {
          "output_type": "display_data",
          "data": {
            "text/plain": [
              "<Figure size 640x480 with 1 Axes>"
            ],
            "image/png": "[encoded data removed]"
          },
          "metadata": {}
        }
      ]
    },
    {
      "cell_type": "code",
      "source": [
        "#Obtenemos las metricas de desempeño de la matriz\n",
        "#Creamos las funciones necesarias primero\n",
        "def calcularPrecision(TP, TN, FP, FN):\n",
        "    precision = TP / (TP + FP) #(TP + TN) / (TP + TN + FP + FN)\n",
        "    precision = precision * 100\n",
        "    return precision\n",
        "\n",
        "def calcularSensibilidad(TP, TN, FP, FN):\n",
        "    sensibilidad = TP / (TP + FN)\n",
        "    sensibilidad = sensibilidad * 100\n",
        "    return sensibilidad\n",
        "\n",
        "def calcularEspecificidad(TP, TN, FP, FN):\n",
        "    especificidad = TN / (TN + FP)\n",
        "    especificidad = especificidad * 100\n",
        "    return especificidad\n",
        "\n",
        "def calcularExactitud(TP,TN,FP,FN):\n",
        "    # Aquí va tu código\n",
        "    exactitud = (TP + TN) / (TP + TN + FP + FN)\n",
        "    exactitud = exactitud * 100\n",
        "    return exactitud\n",
        "\n"
      ],
      "metadata": {
        "id": "lYlcLtQzuDeG"
      },
      "execution_count": null,
      "outputs": []
    },
    {
      "cell_type": "code",
      "source": [
        "pre = calcularPrecision(TP, TN, FP, FN)\n",
        "sen = calcularSensibilidad(TP, TN, FP, FN)\n",
        "spec = calcularEspecificidad(TP, TN, FP, FN)\n",
        "exac = calcularExactitud(TP,TN,FP,FN)\n",
        "print(\"Precision:\"+str(pre)+\"%\")\n",
        "print(\"Sensibilidad:\"+str(sen)+\"%\")\n",
        "print(\"Especificidad:\"+str(spec)+\"%\")\n",
        "print(\"Exactitud:\"+str(exac)+\"%\")"
      ],
      "metadata": {
        "colab": {
          "base_uri": "https://localhost:8080/"
        },
        "id": "uWNlP21Qx2Ge",
        "outputId": "c8786725-d5a5-48c9-a40e-e3a6f7d28995"
      },
      "execution_count": null,
      "outputs": [
        {
          "output_type": "stream",
          "name": "stdout",
          "text": [
            "Precision:89.44281524926686%\n",
            "Sensibilidad:88.77749029754204%\n",
            "Especificidad:70.24793388429752%\n",
            "Exactitud:83.95120784501316%\n"
          ]
        }
      ]
    }
  ]
}